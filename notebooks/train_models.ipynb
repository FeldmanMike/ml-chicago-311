{
 "cells": [
  {
   "cell_type": "code",
   "execution_count": 1,
   "metadata": {},
   "outputs": [],
   "source": [
    "import pandas as pd\n",
    "import pipeline as pl\n",
    "import numpy as np\n",
    "from numpy import linalg as la\n",
    "import matplotlib.pyplot as plt\n",
    "from sklearn.linear_model import LinearRegression\n",
    "pd.set_option('display.max_rows', 200)\n",
    "pd.set_option('display.max_columns', 200)"
   ]
  },
  {
   "cell_type": "markdown",
   "metadata": {},
   "source": [
    "Write functions for model training:"
   ]
  },
  {
   "cell_type": "code",
   "execution_count": 2,
   "metadata": {},
   "outputs": [],
   "source": [
    "def estimate_weights_linear_reg(train_X, train_y):\n",
    "    '''\n",
    "    Estimate weights for linear regression\n",
    "    '''\n",
    "    u, s, v_t = la.svd(train_X)\n",
    "    \n",
    "    return u @ u.T @ train_y"
   ]
  },
  {
   "cell_type": "markdown",
   "metadata": {},
   "source": [
    "- Read in pickle,\n",
    "- Create train/test split,\n",
    "- Normalize 'num_children' column, and\n",
    "- Split train and test into feature and target dfs"
   ]
  },
  {
   "cell_type": "code",
   "execution_count": 3,
   "metadata": {},
   "outputs": [],
   "source": [
    "chi_311 = pd.read_pickle(\"../pickle_files/chi_311.pkl\")\n",
    "chi_311['time_to_close_hr'] = chi_311['time_to_close_sec'] / 3600\n",
    "chi_311 = chi_311.set_index('SR_NUMBER')\n",
    "chi_311 = chi_311[chi_311['STATUS'] == 'Completed']\n",
    "chi_311 = chi_311.drop(columns=['STATUS', 'CREATED_DATE', 'CLOSED_DATE', 'time_to_close_sec'])\n",
    "chi_311['NUM_CHILDREN'] = chi_311['NUM_CHILDREN'].fillna(0)"
   ]
  },
  {
   "cell_type": "code",
   "execution_count": 4,
   "metadata": {},
   "outputs": [],
   "source": [
    "train_311, test_311 = pl.create_train_test_split(chi_311)"
   ]
  },
  {
   "cell_type": "code",
   "execution_count": 5,
   "metadata": {},
   "outputs": [],
   "source": [
    "cols_to_normalize = ['NUM_CHILDREN']\n",
    "train_311_norm, scaler = pl.normalize(train_311, cols_to_normalize)\n",
    "test_311_norm, scaler = pl.normalize(test_311, cols_to_normalize ,scaler)"
   ]
  },
  {
   "cell_type": "code",
   "execution_count": 6,
   "metadata": {},
   "outputs": [],
   "source": [
    "train_feat_alt = np.array(train_311.iloc[:, :-1])\n",
    "train_targ_alt = np.array(train_311.iloc[:, -1])"
   ]
  },
  {
   "cell_type": "code",
   "execution_count": 7,
   "metadata": {},
   "outputs": [],
   "source": [
    "train_feat = train_311_norm.iloc[:, :-1]\n",
    "features = list(train_feat.columns)\n",
    "train_feat = np.array(train_feat)\n",
    "train_targ = np.array(pd.DataFrame(train_311_norm.iloc[:, -1]))\n",
    "test_feat = np.array(test_311_norm.iloc[:, :-1])\n",
    "test_targ = np.array(pd.DataFrame(test_311_norm.iloc[:, -1]))"
   ]
  },
  {
   "cell_type": "markdown",
   "metadata": {},
   "source": [
    "**LINEAR REGRESSION**"
   ]
  },
  {
   "cell_type": "code",
   "execution_count": null,
   "metadata": {},
   "outputs": [],
   "source": []
  },
  {
   "cell_type": "code",
   "execution_count": 8,
   "metadata": {},
   "outputs": [],
   "source": [
    "u, s, v_t = la.svd(train_feat, full_matrices=False)"
   ]
  },
  {
   "cell_type": "code",
   "execution_count": 14,
   "metadata": {},
   "outputs": [
    {
     "data": {
      "text/plain": [
       "(826160, 109)"
      ]
     },
     "execution_count": 14,
     "metadata": {},
     "output_type": "execute_result"
    }
   ],
   "source": [
    "train_311.shape"
   ]
  },
  {
   "cell_type": "code",
   "execution_count": 13,
   "metadata": {},
   "outputs": [
    {
     "data": {
      "text/plain": [
       "(826160, 108)"
      ]
     },
     "execution_count": 13,
     "metadata": {},
     "output_type": "execute_result"
    }
   ],
   "source": [
    "train_feat.shape"
   ]
  },
  {
   "cell_type": "code",
   "execution_count": 19,
   "metadata": {},
   "outputs": [
    {
     "data": {
      "text/plain": [
       "(108,)"
      ]
     },
     "execution_count": 19,
     "metadata": {},
     "output_type": "execute_result"
    }
   ],
   "source": [
    "s.shape"
   ]
  },
  {
   "cell_type": "code",
   "execution_count": 17,
   "metadata": {},
   "outputs": [
    {
     "data": {
      "image/png": "[encoded data removed]",
      "text/plain": [
       "<Figure size 432x288 with 1 Axes>"
      ]
     },
     "metadata": {
      "needs_background": "light"
     },
     "output_type": "display_data"
    }
   ],
   "source": [
    "x_const = np.arange(1, 109)\n",
    "ax1 = plt.subplot()\n",
    "plt.scatter(x_const, s)\n",
    "ax1.set_title('Singular Values of X')\n",
    "ax1.set_ylabel('Singular Values')\n",
    "plt.show()"
   ]
  },
  {
   "cell_type": "code",
   "execution_count": 9,
   "metadata": {},
   "outputs": [],
   "source": [
    "# reg = LinearRegression().fit(train_feat, train_targ)"
   ]
  },
  {
   "cell_type": "code",
   "execution_count": 10,
   "metadata": {},
   "outputs": [],
   "source": [
    "# reg.coef_"
   ]
  },
  {
   "cell_type": "code",
   "execution_count": 11,
   "metadata": {},
   "outputs": [],
   "source": [
    "# weights = estimate_weights_linear_reg(train_feat, train_targ)"
   ]
  }
 ],
 "metadata": {
  "kernelspec": {
   "display_name": "Python 3",
   "language": "python",
   "name": "python3"
  },
  "language_info": {
   "codemirror_mode": {
    "name": "ipython",
    "version": 3
   },
   "file_extension": ".py",
   "mimetype": "text/x-python",
   "name": "python",
   "nbconvert_exporter": "python",
   "pygments_lexer": "ipython3",
   "version": "3.8.2"
  }
 },
 "nbformat": 4,
 "nbformat_minor": 4
}
