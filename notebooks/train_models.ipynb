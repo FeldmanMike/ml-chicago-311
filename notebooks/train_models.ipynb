{
 "cells": [
  {
   "cell_type": "code",
   "execution_count": 1,
   "metadata": {},
   "outputs": [],
   "source": [
    "import pandas as pd\n",
    "import pipeline as pl\n",
    "import numpy as np\n",
    "from numpy import linalg as la\n",
    "import matplotlib.pyplot as plt\n",
    "from sklearn.linear_model import LinearRegression\n",
    "from sklearn.svm import LinearSVC, SVC\n",
    "from sklearn.model_selection import GridSearchCV\n",
    "import math\n",
    "pd.set_option('display.max_rows', 200)\n",
    "pd.set_option('display.max_columns', 200)"
   ]
  },
  {
   "cell_type": "markdown",
   "metadata": {},
   "source": [
    "Write functions for model training:"
   ]
  },
  {
   "cell_type": "code",
   "execution_count": 2,
   "metadata": {},
   "outputs": [],
   "source": [
    "def estimate_weights_using_svd(v, s, u_t, y, sing_vals_to_keep=None,\n",
    "                               lamb=None, model='trunc_svd_ls'):\n",
    "    '''\n",
    "    Estimate weights for regression model using the SVD\n",
    "    \n",
    "    Inputs:\n",
    "        v, s, u: V, Sigma, and U transpose matrices found via\n",
    "            the SVD on X\n",
    "        y: vector of labels for X\n",
    "        sing_vals_to_keep: first n singular values to keep non-zero\n",
    "        lamb: ridge regularization parameter\n",
    "        model: which model to estimated; options include 'trunc_svd_ls',\n",
    "            'svd_ls', and 'ridge'\n",
    "    '''\n",
    "    if model == 'ridge':\n",
    "        I = np.identity(s.shape[0])\n",
    "        print('About to return ridge weights!')\n",
    "        return v @ la.inv((s.T @ s) + (lamb * I)) @ s.T @ u_t @ y\n",
    "    elif model == 'trunc_svd_ls':\n",
    "        s_trunc = np.copy(s)\n",
    "        s_trunc[:, sing_vals_to_keep:] = 0\n",
    "        s_inv = la.pinv(s_trunc)\n",
    "        return v @ s_inv @ u_t @ y\n",
    "    else:\n",
    "        s_inv = la.pinv(s)\n",
    "        return v @ s_inv @ u_t @ y"
   ]
  },
  {
   "cell_type": "code",
   "execution_count": 3,
   "metadata": {},
   "outputs": [],
   "source": [
    "def root_mean_squared_error(true_y, predicted_y):\n",
    "    '''\n",
    "    Calculated root mean-squared error\n",
    "    '''\n",
    "    return math.sqrt(np.sum((true_y - predicted_y)**2) / len(true_y))"
   ]
  },
  {
   "cell_type": "markdown",
   "metadata": {},
   "source": [
    "- Read in pickle,\n",
    "- Create train/test split,\n",
    "- Normalize 'num_children' column, and\n",
    "- Split train and test into feature and target dfs"
   ]
  },
  {
   "cell_type": "code",
   "execution_count": 4,
   "metadata": {},
   "outputs": [],
   "source": [
    "chi_311 = pd.read_pickle(\"../pickle_files/chi_311.pkl\")\n",
    "chi_311['time_to_close_hr'] = chi_311['time_to_close_sec'] / 3600\n",
    "chi_311 = chi_311.set_index('SR_NUMBER')\n",
    "chi_311 = chi_311[chi_311['STATUS'] == 'Completed']\n",
    "chi_311 = chi_311.drop(columns=['STATUS', 'CREATED_DATE', 'CLOSED_DATE', 'time_to_close_sec'])\n",
    "chi_311['NUM_CHILDREN'] = chi_311['NUM_CHILDREN'].fillna(0)"
   ]
  },
  {
   "cell_type": "code",
   "execution_count": 75,
   "metadata": {},
   "outputs": [
    {
     "data": {
      "text/plain": [
       "163.88583333333332"
      ]
     },
     "execution_count": 75,
     "metadata": {},
     "output_type": "execute_result"
    }
   ],
   "source": [
    "chi_311['time_to_close_hr'].median()"
   ]
  },
  {
   "cell_type": "code",
   "execution_count": 52,
   "metadata": {},
   "outputs": [
    {
     "data": {
      "text/plain": [
       "(1032700, 190)"
      ]
     },
     "execution_count": 52,
     "metadata": {},
     "output_type": "execute_result"
    }
   ],
   "source": [
    "chi_311.shape"
   ]
  },
  {
   "cell_type": "code",
   "execution_count": 5,
   "metadata": {},
   "outputs": [],
   "source": [
    "train_311, test_311 = pl.create_train_test_split(chi_311)"
   ]
  },
  {
   "cell_type": "code",
   "execution_count": 6,
   "metadata": {},
   "outputs": [],
   "source": [
    "cols_to_normalize = ['NUM_CHILDREN']\n",
    "train_311_norm, scaler = pl.normalize(train_311, cols_to_normalize)\n",
    "test_311_norm, scaler = pl.normalize(test_311, cols_to_normalize, scaler)"
   ]
  },
  {
   "cell_type": "code",
   "execution_count": 7,
   "metadata": {},
   "outputs": [],
   "source": [
    "train_311_norm, val_311_norm = pl.create_train_test_split(train_311_norm)"
   ]
  },
  {
   "cell_type": "code",
   "execution_count": 8,
   "metadata": {},
   "outputs": [],
   "source": [
    "train_feat = train_311_norm.iloc[:, :-1]\n",
    "features = list(train_feat.columns)\n",
    "train_feat = np.array(train_feat, dtype=np.float)\n",
    "train_targ = np.array(pd.DataFrame(train_311_norm.iloc[:, -1]), dtype=np.float)\n",
    "test_feat = np.array(test_311_norm.iloc[:, :-1], dtype=np.float)\n",
    "test_targ = np.array(pd.DataFrame(test_311_norm.iloc[:, -1]), dtype=np.float)\n",
    "val_feat = np.array(val_311_norm.iloc[:, :-1], dtype=np.float)\n",
    "val_targ = np.array(pd.DataFrame(val_311_norm.iloc[:, -1]), dtype=np.float)"
   ]
  },
  {
   "cell_type": "code",
   "execution_count": 110,
   "metadata": {},
   "outputs": [
    {
     "data": {
      "text/plain": [
       "(660928, 189)"
      ]
     },
     "execution_count": 110,
     "metadata": {},
     "output_type": "execute_result"
    }
   ],
   "source": [
    "train_feat.shape"
   ]
  },
  {
   "cell_type": "code",
   "execution_count": 111,
   "metadata": {},
   "outputs": [
    {
     "data": {
      "text/plain": [
       "(165232, 189)"
      ]
     },
     "execution_count": 111,
     "metadata": {},
     "output_type": "execute_result"
    }
   ],
   "source": [
    "val_feat.shape"
   ]
  },
  {
   "cell_type": "code",
   "execution_count": 112,
   "metadata": {},
   "outputs": [
    {
     "data": {
      "text/plain": [
       "(206540, 189)"
      ]
     },
     "execution_count": 112,
     "metadata": {},
     "output_type": "execute_result"
    }
   ],
   "source": [
    "test_feat.shape"
   ]
  },
  {
   "cell_type": "code",
   "execution_count": 109,
   "metadata": {},
   "outputs": [
    {
     "data": {
      "text/plain": [
       "1614.8215960930934"
      ]
     },
     "execution_count": 109,
     "metadata": {},
     "output_type": "execute_result"
    }
   ],
   "source": [
    "train_targ.std()"
   ]
  },
  {
   "cell_type": "code",
   "execution_count": 104,
   "metadata": {},
   "outputs": [
    {
     "data": {
      "text/plain": [
       "(660928, 189)"
      ]
     },
     "execution_count": 104,
     "metadata": {},
     "output_type": "execute_result"
    }
   ],
   "source": [
    "train_feat.shape"
   ]
  },
  {
   "cell_type": "markdown",
   "metadata": {},
   "source": [
    "**SVD / Principal Components**"
   ]
  },
  {
   "cell_type": "markdown",
   "metadata": {},
   "source": [
    "**Note - mention we performed economy SVD, but it didn't change anything (full rank); however, it is close to being low rank (has some low singular values - see 3rd projection)**"
   ]
  },
  {
   "cell_type": "code",
   "execution_count": 9,
   "metadata": {},
   "outputs": [],
   "source": [
    "u, s, v_t = la.svd(train_feat, full_matrices=False)"
   ]
  },
  {
   "cell_type": "markdown",
   "metadata": {},
   "source": [
    "**Include both plots in paper - include hypotheses (sparse matrix, etc.)**"
   ]
  },
  {
   "cell_type": "code",
   "execution_count": 10,
   "metadata": {},
   "outputs": [
    {
     "data": {
      "image/png": "[encoded data removed]",
      "text/plain": [
       "<Figure size 432x288 with 1 Axes>"
      ]
     },
     "metadata": {
      "needs_background": "light"
     },
     "output_type": "display_data"
    }
   ],
   "source": [
    "x_const = np.arange(1, s.shape[0]+1)\n",
    "ax1 = plt.subplot()\n",
    "plt.scatter(x_const, s)\n",
    "ax1.set_title('Singular Values of X')\n",
    "ax1.set_ylabel('Singular Values')\n",
    "plt.show()"
   ]
  },
  {
   "cell_type": "code",
   "execution_count": 11,
   "metadata": {},
   "outputs": [
    {
     "data": {
      "image/png": "[encoded data removed]",
      "text/plain": [
       "<Figure size 432x288 with 1 Axes>"
      ]
     },
     "metadata": {
      "needs_background": "light"
     },
     "output_type": "display_data"
    }
   ],
   "source": [
    "from mpl_toolkits.mplot3d import Axes3D\n",
    "\n",
    "fig = plt.figure()\n",
    "ax = fig.add_subplot(111, projection='3d')\n",
    "\n",
    "pcs = train_feat @ v_t.T\n",
    "p = ax.scatter(pcs[:, 0], pcs[:, 1], pcs[:, 2], c='b')"
   ]
  },
  {
   "cell_type": "markdown",
   "metadata": {},
   "source": [
    "Grid search - number of principal components for PCR\n",
    "\n",
    "*note - using holdout validation set instead of cross validation b/c dataset is large, cross-validation is infeasible given our computational resources*"
   ]
  },
  {
   "cell_type": "code",
   "execution_count": 12,
   "metadata": {},
   "outputs": [],
   "source": [
    "num_sing_vals = [1, 2, 5, 10, 50, 75, 100, 125, 150, 175, 189]\n",
    "results_trunc = np.zeros((len(num_sing_vals), 2))\n",
    "\n",
    "for i, sing_val in enumerate(num_sing_vals):\n",
    "    results_trunc[i, 0] = sing_val\n",
    "    weights = estimate_weights_using_svd(v_t.T, np.diag(s), u.T, train_targ,\n",
    "                                         sing_vals_to_keep=sing_val,\n",
    "                                         model='trunc_svd_ls')\n",
    "    results_trunc[i, 1] = root_mean_squared_error(val_targ, val_feat @ weights)\n",
    "    \n",
    "results_trunc_df = pd.DataFrame(data = results_trunc,  \n",
    "                          columns = ['Num Singular Values', 'RMSE'])"
   ]
  },
  {
   "cell_type": "code",
   "execution_count": 13,
   "metadata": {},
   "outputs": [
    {
     "name": "stdout",
     "output_type": "stream",
     "text": [
      "About to return ridge weights!\n",
      "About to return ridge weights!\n",
      "About to return ridge weights!\n",
      "About to return ridge weights!\n",
      "About to return ridge weights!\n",
      "About to return ridge weights!\n",
      "About to return ridge weights!\n",
      "About to return ridge weights!\n",
      "About to return ridge weights!\n",
      "About to return ridge weights!\n",
      "About to return ridge weights!\n",
      "About to return ridge weights!\n"
     ]
    }
   ],
   "source": [
    "lambdas = [0, 1, 5, 10, 15, 20, 25, 50, 75, 100, 1000, 10000]\n",
    "results_ridge = np.zeros((len(lambdas), 2))\n",
    "\n",
    "for i, lamb in enumerate(lambdas):\n",
    "    results_ridge[i, 0] = lamb\n",
    "    weights = estimate_weights_using_svd(v_t.T, np.diag(s), u.T, train_targ,\n",
    "                                         lamb=lamb, model='ridge')\n",
    "    results_ridge[i, 1] = root_mean_squared_error(val_targ, val_feat @ weights)\n",
    "    \n",
    "results_ridge_df = pd.DataFrame(data = results_ridge,  \n",
    "                                columns = ['Lambda', 'RMSE'])"
   ]
  },
  {
   "cell_type": "code",
   "execution_count": 14,
   "metadata": {},
   "outputs": [
    {
     "data": {
      "text/html": [
       "<div>\n",
       "<style scoped>\n",
       "    .dataframe tbody tr th:only-of-type {\n",
       "        vertical-align: middle;\n",
       "    }\n",
       "\n",
       "    .dataframe tbody tr th {\n",
       "        vertical-align: top;\n",
       "    }\n",
       "\n",
       "    .dataframe thead th {\n",
       "        text-align: right;\n",
       "    }\n",
       "</style>\n",
       "<table border=\"1\" class=\"dataframe\">\n",
       "  <thead>\n",
       "    <tr style=\"text-align: right;\">\n",
       "      <th></th>\n",
       "      <th>Num Singular Values</th>\n",
       "      <th>RMSE</th>\n",
       "    </tr>\n",
       "  </thead>\n",
       "  <tbody>\n",
       "    <tr>\n",
       "      <th>0</th>\n",
       "      <td>1.0</td>\n",
       "      <td>1794.728074</td>\n",
       "    </tr>\n",
       "    <tr>\n",
       "      <th>1</th>\n",
       "      <td>2.0</td>\n",
       "      <td>1632.382546</td>\n",
       "    </tr>\n",
       "    <tr>\n",
       "      <th>2</th>\n",
       "      <td>5.0</td>\n",
       "      <td>1631.941699</td>\n",
       "    </tr>\n",
       "    <tr>\n",
       "      <th>3</th>\n",
       "      <td>10.0</td>\n",
       "      <td>1631.445187</td>\n",
       "    </tr>\n",
       "    <tr>\n",
       "      <th>4</th>\n",
       "      <td>50.0</td>\n",
       "      <td>1440.919622</td>\n",
       "    </tr>\n",
       "    <tr>\n",
       "      <th>5</th>\n",
       "      <td>75.0</td>\n",
       "      <td>1414.998851</td>\n",
       "    </tr>\n",
       "    <tr>\n",
       "      <th>6</th>\n",
       "      <td>100.0</td>\n",
       "      <td>1378.034865</td>\n",
       "    </tr>\n",
       "    <tr>\n",
       "      <th>7</th>\n",
       "      <td>125.0</td>\n",
       "      <td>1291.876259</td>\n",
       "    </tr>\n",
       "    <tr>\n",
       "      <th>8</th>\n",
       "      <td>150.0</td>\n",
       "      <td>1258.160915</td>\n",
       "    </tr>\n",
       "    <tr>\n",
       "      <th>9</th>\n",
       "      <td>175.0</td>\n",
       "      <td>1255.023923</td>\n",
       "    </tr>\n",
       "    <tr>\n",
       "      <th>10</th>\n",
       "      <td>189.0</td>\n",
       "      <td>1255.031361</td>\n",
       "    </tr>\n",
       "  </tbody>\n",
       "</table>\n",
       "</div>"
      ],
      "text/plain": [
       "    Num Singular Values         RMSE\n",
       "0                   1.0  1794.728074\n",
       "1                   2.0  1632.382546\n",
       "2                   5.0  1631.941699\n",
       "3                  10.0  1631.445187\n",
       "4                  50.0  1440.919622\n",
       "5                  75.0  1414.998851\n",
       "6                 100.0  1378.034865\n",
       "7                 125.0  1291.876259\n",
       "8                 150.0  1258.160915\n",
       "9                 175.0  1255.023923\n",
       "10                189.0  1255.031361"
      ]
     },
     "execution_count": 14,
     "metadata": {},
     "output_type": "execute_result"
    }
   ],
   "source": [
    "results_trunc_df"
   ]
  },
  {
   "cell_type": "code",
   "execution_count": 73,
   "metadata": {},
   "outputs": [
    {
     "data": {
      "text/plain": [
       "<matplotlib.axes._subplots.AxesSubplot at 0x7fb25c82f5e0>"
      ]
     },
     "execution_count": 73,
     "metadata": {},
     "output_type": "execute_result"
    },
    {
     "data": {
      "image/png": "[encoded data removed]",
      "text/plain": [
       "<Figure size 432x288 with 1 Axes>"
      ]
     },
     "metadata": {
      "needs_background": "light"
     },
     "output_type": "display_data"
    }
   ],
   "source": [
    "results_trunc_df.plot.bar(x='Num Singular Values', y='RMSE', ylim=(1000, 1850), title='''PCR Model:\n",
    "Validation Set RMSE''')"
   ]
  },
  {
   "cell_type": "code",
   "execution_count": 15,
   "metadata": {},
   "outputs": [
    {
     "data": {
      "text/html": [
       "<div>\n",
       "<style scoped>\n",
       "    .dataframe tbody tr th:only-of-type {\n",
       "        vertical-align: middle;\n",
       "    }\n",
       "\n",
       "    .dataframe tbody tr th {\n",
       "        vertical-align: top;\n",
       "    }\n",
       "\n",
       "    .dataframe thead th {\n",
       "        text-align: right;\n",
       "    }\n",
       "</style>\n",
       "<table border=\"1\" class=\"dataframe\">\n",
       "  <thead>\n",
       "    <tr style=\"text-align: right;\">\n",
       "      <th></th>\n",
       "      <th>Lambda</th>\n",
       "      <th>RMSE</th>\n",
       "    </tr>\n",
       "  </thead>\n",
       "  <tbody>\n",
       "    <tr>\n",
       "      <th>0</th>\n",
       "      <td>0.0</td>\n",
       "      <td>1255.030402</td>\n",
       "    </tr>\n",
       "    <tr>\n",
       "      <th>1</th>\n",
       "      <td>1.0</td>\n",
       "      <td>1255.020047</td>\n",
       "    </tr>\n",
       "    <tr>\n",
       "      <th>2</th>\n",
       "      <td>5.0</td>\n",
       "      <td>1254.999670</td>\n",
       "    </tr>\n",
       "    <tr>\n",
       "      <th>3</th>\n",
       "      <td>10.0</td>\n",
       "      <td>1254.992147</td>\n",
       "    </tr>\n",
       "    <tr>\n",
       "      <th>4</th>\n",
       "      <td>15.0</td>\n",
       "      <td>1254.994305</td>\n",
       "    </tr>\n",
       "    <tr>\n",
       "      <th>5</th>\n",
       "      <td>20.0</td>\n",
       "      <td>1255.003341</td>\n",
       "    </tr>\n",
       "    <tr>\n",
       "      <th>6</th>\n",
       "      <td>25.0</td>\n",
       "      <td>1255.017856</td>\n",
       "    </tr>\n",
       "    <tr>\n",
       "      <th>7</th>\n",
       "      <td>50.0</td>\n",
       "      <td>1255.148073</td>\n",
       "    </tr>\n",
       "    <tr>\n",
       "      <th>8</th>\n",
       "      <td>75.0</td>\n",
       "      <td>1255.342646</td>\n",
       "    </tr>\n",
       "    <tr>\n",
       "      <th>9</th>\n",
       "      <td>100.0</td>\n",
       "      <td>1255.580039</td>\n",
       "    </tr>\n",
       "    <tr>\n",
       "      <th>10</th>\n",
       "      <td>1000.0</td>\n",
       "      <td>1268.221612</td>\n",
       "    </tr>\n",
       "    <tr>\n",
       "      <th>11</th>\n",
       "      <td>10000.0</td>\n",
       "      <td>1354.351495</td>\n",
       "    </tr>\n",
       "  </tbody>\n",
       "</table>\n",
       "</div>"
      ],
      "text/plain": [
       "     Lambda         RMSE\n",
       "0       0.0  1255.030402\n",
       "1       1.0  1255.020047\n",
       "2       5.0  1254.999670\n",
       "3      10.0  1254.992147\n",
       "4      15.0  1254.994305\n",
       "5      20.0  1255.003341\n",
       "6      25.0  1255.017856\n",
       "7      50.0  1255.148073\n",
       "8      75.0  1255.342646\n",
       "9     100.0  1255.580039\n",
       "10   1000.0  1268.221612\n",
       "11  10000.0  1354.351495"
      ]
     },
     "execution_count": 15,
     "metadata": {},
     "output_type": "execute_result"
    }
   ],
   "source": [
    "results_ridge_df"
   ]
  },
  {
   "cell_type": "code",
   "execution_count": 72,
   "metadata": {},
   "outputs": [
    {
     "data": {
      "text/plain": [
       "<matplotlib.axes._subplots.AxesSubplot at 0x7fb25c6fb5e0>"
      ]
     },
     "execution_count": 72,
     "metadata": {},
     "output_type": "execute_result"
    },
    {
     "data": {
      "image/png": "[encoded data removed]",
      "text/plain": [
       "<Figure size 432x288 with 1 Axes>"
      ]
     },
     "metadata": {
      "needs_background": "light"
     },
     "output_type": "display_data"
    }
   ],
   "source": [
    "results_ridge_df.plot.bar(x='Lambda', y='RMSE', ylim=(1000, 1850), color='g', title='''Ridge Regression Model:\n",
    "Validation Set RMSE''')"
   ]
  },
  {
   "cell_type": "code",
   "execution_count": 102,
   "metadata": {},
   "outputs": [
    {
     "name": "stdout",
     "output_type": "stream",
     "text": [
      "About to return ridge weights!\n"
     ]
    },
    {
     "data": {
      "text/plain": [
       "1244.8466024381553"
      ]
     },
     "execution_count": 102,
     "metadata": {},
     "output_type": "execute_result"
    }
   ],
   "source": [
    "best_w = estimate_weights_using_svd(v_t.T, np.diag(s), u.T, train_targ,\n",
    "                                    lamb=10, model='ridge')\n",
    "root_mean_squared_error(test_targ, test_feat @ best_w)"
   ]
  },
  {
   "cell_type": "code",
   "execution_count": 103,
   "metadata": {},
   "outputs": [
    {
     "data": {
      "text/plain": [
       "(206540, 1)"
      ]
     },
     "execution_count": 103,
     "metadata": {},
     "output_type": "execute_result"
    }
   ],
   "source": [
    "test_targ.shape"
   ]
  },
  {
   "cell_type": "markdown",
   "metadata": {},
   "source": [
    "**NEXT: Plot both RMSE; do classification on whether request fulfilled in one week (which is about the median)**"
   ]
  },
  {
   "cell_type": "code",
   "execution_count": 16,
   "metadata": {},
   "outputs": [],
   "source": [
    "train_targ_week = np.where(train_targ <= 168.0, 1, -1)\n",
    "test_targ_week = np.where(test_targ <= 168.0, 1, -1)\n",
    "val_targ_week = np.where(val_targ <= 168.0, 1, -1)"
   ]
  },
  {
   "cell_type": "code",
   "execution_count": 17,
   "metadata": {},
   "outputs": [],
   "source": [
    "def classification_err(y_true, y_hat):\n",
    "    print('About to find classification error!')\n",
    "    y_hat = np.sign(y_hat).reshape(-1)\n",
    "    test_matches = np.equal(y_hat, y_true.reshape(-1))\n",
    "    return (y_hat.size - np.sum(test_matches))/y_hat.size"
   ]
  },
  {
   "cell_type": "code",
   "execution_count": 46,
   "metadata": {},
   "outputs": [
    {
     "name": "stdout",
     "output_type": "stream",
     "text": [
      "About to return ridge weights!\n",
      "About to find classification error!\n",
      "About to return ridge weights!\n",
      "About to find classification error!\n",
      "About to return ridge weights!\n",
      "About to find classification error!\n",
      "About to return ridge weights!\n",
      "About to find classification error!\n",
      "About to return ridge weights!\n",
      "About to find classification error!\n",
      "About to return ridge weights!\n",
      "About to find classification error!\n",
      "About to return ridge weights!\n",
      "About to find classification error!\n",
      "About to return ridge weights!\n",
      "About to find classification error!\n",
      "About to return ridge weights!\n",
      "About to find classification error!\n",
      "About to return ridge weights!\n",
      "About to find classification error!\n",
      "About to return ridge weights!\n",
      "About to find classification error!\n",
      "About to return ridge weights!\n",
      "About to find classification error!\n"
     ]
    }
   ],
   "source": [
    "lambdas = [0, 1, 5, 10, 15, 20, 25, 50, 75, 100, 1000, 10000]\n",
    "results_ridge_cls = np.zeros((len(lambdas), 2))\n",
    "\n",
    "for i, lamb in enumerate(lambdas):\n",
    "    results_ridge_cls[i, 0] = lamb\n",
    "    weights = estimate_weights_using_svd(v_t.T, np.diag(s), u.T, train_targ_week,\n",
    "                                         lamb=lamb, model='ridge')\n",
    "    results_ridge_cls[i, 1] = classification_err(val_targ_week, val_feat @ weights)\n",
    "    \n",
    "results_ridge_cls = pd.DataFrame(data = results_ridge_cls,  \n",
    "                                columns = ['Lambda', 'Classification Error'])"
   ]
  },
  {
   "cell_type": "code",
   "execution_count": 47,
   "metadata": {},
   "outputs": [
    {
     "name": "stdout",
     "output_type": "stream",
     "text": [
      "About to find classification error!\n",
      "About to find classification error!\n",
      "About to find classification error!\n",
      "About to find classification error!\n",
      "About to find classification error!\n",
      "About to find classification error!\n",
      "About to find classification error!\n",
      "About to find classification error!\n",
      "About to find classification error!\n",
      "About to find classification error!\n",
      "About to find classification error!\n"
     ]
    }
   ],
   "source": [
    "num_sing_vals = [1, 2, 5, 10, 50, 75, 100, 125, 150, 175, 189]\n",
    "results_trunc_cls = np.zeros((len(num_sing_vals), 2))\n",
    "\n",
    "for i, sing_val in enumerate(num_sing_vals):\n",
    "    results_trunc_cls[i, 0] = sing_val\n",
    "    weights = estimate_weights_using_svd(v_t.T, np.diag(s), u.T, train_targ_week,\n",
    "                                         sing_vals_to_keep=sing_val, model='trunc_svd_ls')\n",
    "    results_trunc_cls[i, 1] = classification_err(val_targ_week, val_feat @ weights)\n",
    "    \n",
    "results_trunc_cls = pd.DataFrame(data = results_trunc_cls,  \n",
    "                                columns = ['Number of Singular Values', \n",
    "                                           'Classification Error'])"
   ]
  },
  {
   "cell_type": "code",
   "execution_count": 48,
   "metadata": {},
   "outputs": [
    {
     "data": {
      "text/html": [
       "<div>\n",
       "<style scoped>\n",
       "    .dataframe tbody tr th:only-of-type {\n",
       "        vertical-align: middle;\n",
       "    }\n",
       "\n",
       "    .dataframe tbody tr th {\n",
       "        vertical-align: top;\n",
       "    }\n",
       "\n",
       "    .dataframe thead th {\n",
       "        text-align: right;\n",
       "    }\n",
       "</style>\n",
       "<table border=\"1\" class=\"dataframe\">\n",
       "  <thead>\n",
       "    <tr style=\"text-align: right;\">\n",
       "      <th></th>\n",
       "      <th>Lambda</th>\n",
       "      <th>Classification Error</th>\n",
       "    </tr>\n",
       "  </thead>\n",
       "  <tbody>\n",
       "    <tr>\n",
       "      <th>0</th>\n",
       "      <td>0.0</td>\n",
       "      <td>0.220472</td>\n",
       "    </tr>\n",
       "    <tr>\n",
       "      <th>1</th>\n",
       "      <td>1.0</td>\n",
       "      <td>0.220284</td>\n",
       "    </tr>\n",
       "    <tr>\n",
       "      <th>2</th>\n",
       "      <td>5.0</td>\n",
       "      <td>0.220314</td>\n",
       "    </tr>\n",
       "    <tr>\n",
       "      <th>3</th>\n",
       "      <td>10.0</td>\n",
       "      <td>0.220345</td>\n",
       "    </tr>\n",
       "    <tr>\n",
       "      <th>4</th>\n",
       "      <td>15.0</td>\n",
       "      <td>0.220345</td>\n",
       "    </tr>\n",
       "    <tr>\n",
       "      <th>5</th>\n",
       "      <td>20.0</td>\n",
       "      <td>0.220351</td>\n",
       "    </tr>\n",
       "    <tr>\n",
       "      <th>6</th>\n",
       "      <td>25.0</td>\n",
       "      <td>0.220357</td>\n",
       "    </tr>\n",
       "    <tr>\n",
       "      <th>7</th>\n",
       "      <td>50.0</td>\n",
       "      <td>0.220357</td>\n",
       "    </tr>\n",
       "    <tr>\n",
       "      <th>8</th>\n",
       "      <td>75.0</td>\n",
       "      <td>0.220375</td>\n",
       "    </tr>\n",
       "    <tr>\n",
       "      <th>9</th>\n",
       "      <td>100.0</td>\n",
       "      <td>0.220436</td>\n",
       "    </tr>\n",
       "    <tr>\n",
       "      <th>10</th>\n",
       "      <td>1000.0</td>\n",
       "      <td>0.221773</td>\n",
       "    </tr>\n",
       "    <tr>\n",
       "      <th>11</th>\n",
       "      <td>10000.0</td>\n",
       "      <td>0.228491</td>\n",
       "    </tr>\n",
       "  </tbody>\n",
       "</table>\n",
       "</div>"
      ],
      "text/plain": [
       "     Lambda  Classification Error\n",
       "0       0.0              0.220472\n",
       "1       1.0              0.220284\n",
       "2       5.0              0.220314\n",
       "3      10.0              0.220345\n",
       "4      15.0              0.220345\n",
       "5      20.0              0.220351\n",
       "6      25.0              0.220357\n",
       "7      50.0              0.220357\n",
       "8      75.0              0.220375\n",
       "9     100.0              0.220436\n",
       "10   1000.0              0.221773\n",
       "11  10000.0              0.228491"
      ]
     },
     "execution_count": 48,
     "metadata": {},
     "output_type": "execute_result"
    }
   ],
   "source": [
    "results_ridge_cls"
   ]
  },
  {
   "cell_type": "code",
   "execution_count": 49,
   "metadata": {},
   "outputs": [
    {
     "data": {
      "text/html": [
       "<div>\n",
       "<style scoped>\n",
       "    .dataframe tbody tr th:only-of-type {\n",
       "        vertical-align: middle;\n",
       "    }\n",
       "\n",
       "    .dataframe tbody tr th {\n",
       "        vertical-align: top;\n",
       "    }\n",
       "\n",
       "    .dataframe thead th {\n",
       "        text-align: right;\n",
       "    }\n",
       "</style>\n",
       "<table border=\"1\" class=\"dataframe\">\n",
       "  <thead>\n",
       "    <tr style=\"text-align: right;\">\n",
       "      <th></th>\n",
       "      <th>Number of Singular Values</th>\n",
       "      <th>Classification Error</th>\n",
       "    </tr>\n",
       "  </thead>\n",
       "  <tbody>\n",
       "    <tr>\n",
       "      <th>0</th>\n",
       "      <td>1.0</td>\n",
       "      <td>0.450984</td>\n",
       "    </tr>\n",
       "    <tr>\n",
       "      <th>1</th>\n",
       "      <td>2.0</td>\n",
       "      <td>0.450984</td>\n",
       "    </tr>\n",
       "    <tr>\n",
       "      <th>2</th>\n",
       "      <td>5.0</td>\n",
       "      <td>0.450984</td>\n",
       "    </tr>\n",
       "    <tr>\n",
       "      <th>3</th>\n",
       "      <td>10.0</td>\n",
       "      <td>0.442632</td>\n",
       "    </tr>\n",
       "    <tr>\n",
       "      <th>4</th>\n",
       "      <td>50.0</td>\n",
       "      <td>0.328296</td>\n",
       "    </tr>\n",
       "    <tr>\n",
       "      <th>5</th>\n",
       "      <td>75.0</td>\n",
       "      <td>0.297182</td>\n",
       "    </tr>\n",
       "    <tr>\n",
       "      <th>6</th>\n",
       "      <td>100.0</td>\n",
       "      <td>0.271624</td>\n",
       "    </tr>\n",
       "    <tr>\n",
       "      <th>7</th>\n",
       "      <td>125.0</td>\n",
       "      <td>0.237793</td>\n",
       "    </tr>\n",
       "    <tr>\n",
       "      <th>8</th>\n",
       "      <td>150.0</td>\n",
       "      <td>0.223619</td>\n",
       "    </tr>\n",
       "    <tr>\n",
       "      <th>9</th>\n",
       "      <td>175.0</td>\n",
       "      <td>0.220321</td>\n",
       "    </tr>\n",
       "    <tr>\n",
       "      <th>10</th>\n",
       "      <td>189.0</td>\n",
       "      <td>0.220284</td>\n",
       "    </tr>\n",
       "  </tbody>\n",
       "</table>\n",
       "</div>"
      ],
      "text/plain": [
       "    Number of Singular Values  Classification Error\n",
       "0                         1.0              0.450984\n",
       "1                         2.0              0.450984\n",
       "2                         5.0              0.450984\n",
       "3                        10.0              0.442632\n",
       "4                        50.0              0.328296\n",
       "5                        75.0              0.297182\n",
       "6                       100.0              0.271624\n",
       "7                       125.0              0.237793\n",
       "8                       150.0              0.223619\n",
       "9                       175.0              0.220321\n",
       "10                      189.0              0.220284"
      ]
     },
     "execution_count": 49,
     "metadata": {},
     "output_type": "execute_result"
    }
   ],
   "source": [
    "results_trunc_cls"
   ]
  },
  {
   "cell_type": "code",
   "execution_count": 92,
   "metadata": {},
   "outputs": [
    {
     "data": {
      "text/plain": [
       "<matplotlib.axes._subplots.AxesSubplot at 0x7fb25f1c92e0>"
      ]
     },
     "execution_count": 92,
     "metadata": {},
     "output_type": "execute_result"
    },
    {
     "data": {
      "image/png": "[encoded data removed]",
      "text/plain": [
       "<Figure size 432x288 with 1 Axes>"
      ]
     },
     "metadata": {
      "needs_background": "light"
     },
     "output_type": "display_data"
    }
   ],
   "source": [
    "results_trunc_cls.plot.bar(x='Number of Singular Values', y='Classification Error', ylim=(0, 0.5), title='''PC Classification Model:\n",
    "Validation Set Classification Error''')"
   ]
  },
  {
   "cell_type": "code",
   "execution_count": 89,
   "metadata": {},
   "outputs": [
    {
     "data": {
      "text/plain": [
       "<matplotlib.axes._subplots.AxesSubplot at 0x7fb25ee4c6d0>"
      ]
     },
     "execution_count": 89,
     "metadata": {},
     "output_type": "execute_result"
    },
    {
     "data": {
      "image/png": "[encoded data removed]",
      "text/plain": [
       "<Figure size 432x288 with 1 Axes>"
      ]
     },
     "metadata": {
      "needs_background": "light"
     },
     "output_type": "display_data"
    }
   ],
   "source": [
    "results_ridge_cls.plot.bar(x='Lambda', y='Classification Error', ylim=(0, 0.5), color='g', title='''Ridge Classification Model:\n",
    "Validation Set Classification Error''')"
   ]
  },
  {
   "cell_type": "markdown",
   "metadata": {},
   "source": [
    "### Now let's try the SVM!"
   ]
  },
  {
   "cell_type": "code",
   "execution_count": null,
   "metadata": {},
   "outputs": [],
   "source": [
    "train_targ_week.shape"
   ]
  },
  {
   "cell_type": "code",
   "execution_count": null,
   "metadata": {},
   "outputs": [],
   "source": [
    "print(train_targ_week)"
   ]
  },
  {
   "cell_type": "code",
   "execution_count": null,
   "metadata": {},
   "outputs": [],
   "source": [
    "print(train_targ_week.reshape(-1))"
   ]
  },
  {
   "cell_type": "code",
   "execution_count": null,
   "metadata": {},
   "outputs": [],
   "source": [
    "train_targ_week.reshape(-1).shape"
   ]
  },
  {
   "cell_type": "code",
   "execution_count": null,
   "metadata": {},
   "outputs": [],
   "source": [
    "val_targ_week.shape"
   ]
  },
  {
   "cell_type": "code",
   "execution_count": null,
   "metadata": {},
   "outputs": [],
   "source": [
    "val_feat.shape"
   ]
  },
  {
   "cell_type": "code",
   "execution_count": null,
   "metadata": {},
   "outputs": [],
   "source": [
    "# try to see if this will run\n",
    "# svc = LinearSVC(C=0.5)\n",
    "# svc.fit(train_feat, train_targ_week.reshape(-1))\n",
    "# y_hat = np.sign(svc.predict(val_feat))\n",
    "# test_matches = np.equal(y_hat, val_targ_week.reshape(-1))\n",
    "# clf_err = (y_hat.size - np.sum(test_matches))/y_hat.size\n",
    "# clf_err"
   ]
  },
  {
   "cell_type": "markdown",
   "metadata": {},
   "source": [
    "C value of 0.5 led to error of 0.2187469739517769."
   ]
  },
  {
   "cell_type": "code",
   "execution_count": null,
   "metadata": {},
   "outputs": [],
   "source": [
    "# targ = svc.predict(val_feat)"
   ]
  },
  {
   "cell_type": "code",
   "execution_count": null,
   "metadata": {},
   "outputs": [],
   "source": [
    "# targ.shape"
   ]
  },
  {
   "cell_type": "code",
   "execution_count": null,
   "metadata": {},
   "outputs": [],
   "source": [
    "# y_hat = targ\n",
    "# y_hat = np.sign(y_hat)\n",
    "# test_matches = np.equal(y_hat, val_targ_week.reshape(-1))\n",
    "# clf_err = (y_hat.size - np.sum(test_matches))/y_hat.size"
   ]
  },
  {
   "cell_type": "code",
   "execution_count": null,
   "metadata": {},
   "outputs": [],
   "source": [
    "# clf_err"
   ]
  },
  {
   "cell_type": "code",
   "execution_count": 50,
   "metadata": {},
   "outputs": [
    {
     "name": "stderr",
     "output_type": "stream",
     "text": [
      "/Users/michaelfeldman/opt/anaconda3/envs/geo_env/lib/python3.8/site-packages/sklearn/svm/_base.py:946: ConvergenceWarning: Liblinear failed to converge, increase the number of iterations.\n",
      "  warnings.warn(\"Liblinear failed to converge, increase \"\n"
     ]
    },
    {
     "name": "stdout",
     "output_type": "stream",
     "text": [
      "About to find classification error!\n"
     ]
    },
    {
     "name": "stderr",
     "output_type": "stream",
     "text": [
      "/Users/michaelfeldman/opt/anaconda3/envs/geo_env/lib/python3.8/site-packages/sklearn/svm/_base.py:946: ConvergenceWarning: Liblinear failed to converge, increase the number of iterations.\n",
      "  warnings.warn(\"Liblinear failed to converge, increase \"\n"
     ]
    },
    {
     "name": "stdout",
     "output_type": "stream",
     "text": [
      "About to find classification error!\n"
     ]
    },
    {
     "name": "stderr",
     "output_type": "stream",
     "text": [
      "/Users/michaelfeldman/opt/anaconda3/envs/geo_env/lib/python3.8/site-packages/sklearn/svm/_base.py:946: ConvergenceWarning: Liblinear failed to converge, increase the number of iterations.\n",
      "  warnings.warn(\"Liblinear failed to converge, increase \"\n"
     ]
    },
    {
     "name": "stdout",
     "output_type": "stream",
     "text": [
      "About to find classification error!\n",
      "About to find classification error!\n"
     ]
    },
    {
     "name": "stderr",
     "output_type": "stream",
     "text": [
      "/Users/michaelfeldman/opt/anaconda3/envs/geo_env/lib/python3.8/site-packages/sklearn/svm/_base.py:946: ConvergenceWarning: Liblinear failed to converge, increase the number of iterations.\n",
      "  warnings.warn(\"Liblinear failed to converge, increase \"\n"
     ]
    }
   ],
   "source": [
    "c_range = [1, 10, 100, 1000]\n",
    "results_svc = np.zeros((len(c_range), 2))\n",
    "for i, c in enumerate(c_range):\n",
    "    results_svc[i, 0] = c\n",
    "    svc = LinearSVC(C=c)\n",
    "    svc.fit(train_feat, train_targ_week.reshape(-1))\n",
    "    results_svc[i, 1] = classification_err(val_targ_week, svc.predict(val_feat))\n",
    "    \n",
    "results_svc = pd.DataFrame(data = results_svc,  \n",
    "                                columns = ['c Parameter', \n",
    "                                           'Classification Error'])"
   ]
  },
  {
   "cell_type": "code",
   "execution_count": null,
   "metadata": {},
   "outputs": [],
   "source": [
    "c_range = [1, 10, 100, 1000]\n",
    "results_svc = np.zeros((len(c_range), 2))\n",
    "for i, c in enumerate(c_range):\n",
    "    results_svc[i, 0] = c\n",
    "    svc = LinearSVC(C=c)\n",
    "    svc.fit(train_feat, train_targ_week.reshape(-1))\n",
    "    results_svc[i, 1] = classification_err(val_targ_week, svc.predict(val_feat))\n",
    "    \n",
    "results_svc = pd.DataFrame(data = results_svc,  \n",
    "                                columns = ['c Parameter', \n",
    "                                           'Classification Error'])"
   ]
  },
  {
   "cell_type": "code",
   "execution_count": 51,
   "metadata": {},
   "outputs": [
    {
     "data": {
      "text/html": [
       "<div>\n",
       "<style scoped>\n",
       "    .dataframe tbody tr th:only-of-type {\n",
       "        vertical-align: middle;\n",
       "    }\n",
       "\n",
       "    .dataframe tbody tr th {\n",
       "        vertical-align: top;\n",
       "    }\n",
       "\n",
       "    .dataframe thead th {\n",
       "        text-align: right;\n",
       "    }\n",
       "</style>\n",
       "<table border=\"1\" class=\"dataframe\">\n",
       "  <thead>\n",
       "    <tr style=\"text-align: right;\">\n",
       "      <th></th>\n",
       "      <th>c Parameter</th>\n",
       "      <th>Classification Error</th>\n",
       "    </tr>\n",
       "  </thead>\n",
       "  <tbody>\n",
       "    <tr>\n",
       "      <th>0</th>\n",
       "      <td>1.0</td>\n",
       "      <td>0.218711</td>\n",
       "    </tr>\n",
       "    <tr>\n",
       "      <th>1</th>\n",
       "      <td>10.0</td>\n",
       "      <td>0.218596</td>\n",
       "    </tr>\n",
       "    <tr>\n",
       "      <th>2</th>\n",
       "      <td>100.0</td>\n",
       "      <td>0.242066</td>\n",
       "    </tr>\n",
       "    <tr>\n",
       "      <th>3</th>\n",
       "      <td>1000.0</td>\n",
       "      <td>0.324822</td>\n",
       "    </tr>\n",
       "  </tbody>\n",
       "</table>\n",
       "</div>"
      ],
      "text/plain": [
       "   c Parameter  Classification Error\n",
       "0          1.0              0.218711\n",
       "1         10.0              0.218596\n",
       "2        100.0              0.242066\n",
       "3       1000.0              0.324822"
      ]
     },
     "execution_count": 51,
     "metadata": {},
     "output_type": "execute_result"
    }
   ],
   "source": [
    "results_svc"
   ]
  },
  {
   "cell_type": "code",
   "execution_count": 91,
   "metadata": {},
   "outputs": [
    {
     "data": {
      "text/plain": [
       "<matplotlib.axes._subplots.AxesSubplot at 0x7fb25f15cdf0>"
      ]
     },
     "execution_count": 91,
     "metadata": {},
     "output_type": "execute_result"
    },
    {
     "data": {
      "image/png": "[encoded data removed]",
      "text/plain": [
       "<Figure size 432x288 with 1 Axes>"
      ]
     },
     "metadata": {
      "needs_background": "light"
     },
     "output_type": "display_data"
    }
   ],
   "source": [
    "results_svc.plot.bar(x='c Parameter', y='Classification Error', ylim=(0, 0.5), title='''SVM:\n",
    "Validation Set Classification Error''', color='m')"
   ]
  },
  {
   "cell_type": "code",
   "execution_count": 99,
   "metadata": {},
   "outputs": [
    {
     "name": "stderr",
     "output_type": "stream",
     "text": [
      "/Users/michaelfeldman/opt/anaconda3/envs/geo_env/lib/python3.8/site-packages/sklearn/svm/_base.py:946: ConvergenceWarning: Liblinear failed to converge, increase the number of iterations.\n",
      "  warnings.warn(\"Liblinear failed to converge, increase \"\n"
     ]
    },
    {
     "data": {
      "text/plain": [
       "LinearSVC(C=10, class_weight=None, dual=True, fit_intercept=True,\n",
       "          intercept_scaling=1, loss='squared_hinge', max_iter=1000,\n",
       "          multi_class='ovr', penalty='l2', random_state=None, tol=0.0001,\n",
       "          verbose=0)"
      ]
     },
     "execution_count": 99,
     "metadata": {},
     "output_type": "execute_result"
    }
   ],
   "source": [
    "svc = LinearSVC(C=10)\n",
    "svc.fit(train_feat, train_targ_week.reshape(-1))"
   ]
  },
  {
   "cell_type": "code",
   "execution_count": 101,
   "metadata": {},
   "outputs": [
    {
     "data": {
      "text/plain": [
       "(206540, 189)"
      ]
     },
     "execution_count": 101,
     "metadata": {},
     "output_type": "execute_result"
    }
   ],
   "source": [
    "test_feat.shape"
   ]
  },
  {
   "cell_type": "code",
   "execution_count": 100,
   "metadata": {},
   "outputs": [
    {
     "name": "stdout",
     "output_type": "stream",
     "text": [
      "About to find classification error!\n"
     ]
    },
    {
     "data": {
      "text/plain": [
       "0.21973951776895517"
      ]
     },
     "execution_count": 100,
     "metadata": {},
     "output_type": "execute_result"
    }
   ],
   "source": [
    "classification_err(test_targ_week, svc.predict(test_feat))"
   ]
  }
 ],
 "metadata": {
  "kernelspec": {
   "display_name": "Python 3",
   "language": "python",
   "name": "python3"
  },
  "language_info": {
   "codemirror_mode": {
    "name": "ipython",
    "version": 3
   },
   "file_extension": ".py",
   "mimetype": "text/x-python",
   "name": "python",
   "nbconvert_exporter": "python",
   "pygments_lexer": "ipython3",
   "version": "3.8.2"
  }
 },
 "nbformat": 4,
 "nbformat_minor": 4
}
