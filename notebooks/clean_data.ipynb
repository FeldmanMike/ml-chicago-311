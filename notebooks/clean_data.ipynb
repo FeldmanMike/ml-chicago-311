{
 "cells": [
  {
   "cell_type": "markdown",
   "metadata": {},
   "source": [
    "*This notebook will create a file with the following transformations/filters:*"
   ]
  },
  {
   "cell_type": "markdown",
   "metadata": {},
   "source": [
    "- Filtered to include only the following columns: ('SR_NUMBER', 'SR_TYPE', 'OWNER_DEPARTMENT',\n",
    "  'STATUS', 'CREATED_DATE', 'CLOSED_DATE', 'DUPLICATE', 'PARENT_SR_NUMBER', 'COMMUNITY_AREA',\n",
    "  'WARD', 'CREATED_HOUR', 'CREATED_DAY_OF_WEEK', 'CREATED_MONTH')\n",
    "- 311 Information-Only calls removed\n",
    "- Legacy records removed\n",
    "- Removed rows with no Ward or Community Area\n",
    "- Added 'time_to_close_sec' column including time difference in seconds between record creation\n",
    "  and closure"
   ]
  },
  {
   "cell_type": "markdown",
   "metadata": {},
   "source": [
    "**Transformations/filters remaining:**"
   ]
  },
  {
   "cell_type": "markdown",
   "metadata": {},
   "source": [
    "- Add 'number of children' column denoting how many duplicates a request has\n",
    "- Filter out duplicates once first bullet point completed (this code is already in the notebook, we'll just need to move it and uncomment it)\n",
    "- Create dummy columns for request type, department, community area, ward, and hour/day/month of request creation\n",
    "- Think about what our 'time-to-close' threshold should be and apply that filter -- should we filter out all requests closed in under X minutes? Or should we filter out a request type entirely if more than X% of its requests are filled in under X minutes?"
   ]
  },
  {
   "cell_type": "markdown",
   "metadata": {},
   "source": [
    "**Notes/resources**:\n",
    "\n",
    "- pandas to_pickle function: https://pandas.pydata.org/pandas-docs/stable/reference/api/pandas.DataFrame.to_pickle.html\n",
    "- pandas read_pickle function: https://pandas.pydata.org/pandas-docs/stable/reference/api/pandas.read_pickle.html#pandas.read_pickle\n",
    "- I downloaded the Chicago 311 CSV file locally from the data portal: https://data.cityofchicago.org/Service-Requests/311-Service-Requests/v6vf-nfxy; it's ~1.4 GBs. I have it in a folder called 'raw_data' in my local repo (I didn't push it because the file is too big). You'll need to do the same on your end (download the file and put it in a 'raw_data' folder in your local repo). Let me know if you have any trouble with this (e.g., you don't have space to save a 1.4 GB file or it takes too long to download)\n",
    "- I don't think we should push another pickle file to GitHub until the final version, but open to what you think. I think we can add the final filters/transformations to this notebook."
   ]
  },
  {
   "cell_type": "code",
   "execution_count": 1,
   "metadata": {},
   "outputs": [],
   "source": [
    "%load_ext autoreload"
   ]
  },
  {
   "cell_type": "code",
   "execution_count": 2,
   "metadata": {},
   "outputs": [],
   "source": [
    "import pandas as pd\n",
    "import datetime as dt"
   ]
  },
  {
   "cell_type": "markdown",
   "metadata": {},
   "source": [
    "Read in downloaded CSV file:"
   ]
  },
  {
   "cell_type": "code",
   "execution_count": 3,
   "metadata": {},
   "outputs": [
    {
     "name": "stderr",
     "output_type": "stream",
     "text": [
      "/Users/michaelfeldman/opt/anaconda3/envs/geo_env/lib/python3.8/site-packages/IPython/core/interactiveshell.py:3062: DtypeWarning: Columns (11,12,18,19,28) have mixed types.Specify dtype option on import or set low_memory=False.\n",
      "  has_raised = await self.run_ast_nodes(code_ast.body, cell_name,\n"
     ]
    }
   ],
   "source": [
    "chi_311 = pd.read_csv('../raw_data/chicago_311_requests.csv')"
   ]
  },
  {
   "cell_type": "code",
   "execution_count": 4,
   "metadata": {},
   "outputs": [
    {
     "data": {
      "text/plain": [
       "(4080622, 37)"
      ]
     },
     "execution_count": 4,
     "metadata": {},
     "output_type": "execute_result"
    }
   ],
   "source": [
    "chi_311.shape"
   ]
  },
  {
   "cell_type": "markdown",
   "metadata": {},
   "source": [
    "Filter dataframe to exclude info-only calls:"
   ]
  },
  {
   "cell_type": "code",
   "execution_count": 5,
   "metadata": {},
   "outputs": [],
   "source": [
    "chi_311_filtered = chi_311[chi_311['SR_TYPE'] != '311 INFORMATION ONLY CALL']"
   ]
  },
  {
   "cell_type": "code",
   "execution_count": 6,
   "metadata": {},
   "outputs": [
    {
     "data": {
      "text/plain": [
       "(2702596, 37)"
      ]
     },
     "execution_count": 6,
     "metadata": {},
     "output_type": "execute_result"
    }
   ],
   "source": [
    "chi_311_filtered.shape"
   ]
  },
  {
   "cell_type": "markdown",
   "metadata": {},
   "source": [
    "Filter for columns needed:"
   ]
  },
  {
   "cell_type": "code",
   "execution_count": 7,
   "metadata": {},
   "outputs": [
    {
     "data": {
      "text/plain": [
       "Index(['SR_NUMBER', 'SR_TYPE', 'SR_SHORT_CODE', 'OWNER_DEPARTMENT', 'STATUS',\n",
       "       'CREATED_DATE', 'LAST_MODIFIED_DATE', 'CLOSED_DATE', 'STREET_ADDRESS',\n",
       "       'CITY', 'STATE', 'ZIP_CODE', 'STREET_NUMBER', 'STREET_DIRECTION',\n",
       "       'STREET_NAME', 'STREET_TYPE', 'DUPLICATE', 'LEGACY_RECORD',\n",
       "       'LEGACY_SR_NUMBER', 'PARENT_SR_NUMBER', 'COMMUNITY_AREA', 'WARD',\n",
       "       'ELECTRICAL_DISTRICT', 'ELECTRICITY_GRID', 'POLICE_SECTOR',\n",
       "       'POLICE_DISTRICT', 'POLICE_BEAT', 'PRECINCT',\n",
       "       'SANITATION_DIVISION_DAYS', 'CREATED_HOUR', 'CREATED_DAY_OF_WEEK',\n",
       "       'CREATED_MONTH', 'X_COORDINATE', 'Y_COORDINATE', 'LATITUDE',\n",
       "       'LONGITUDE', 'LOCATION'],\n",
       "      dtype='object')"
      ]
     },
     "execution_count": 7,
     "metadata": {},
     "output_type": "execute_result"
    }
   ],
   "source": [
    "chi_311_filtered.columns"
   ]
  },
  {
   "cell_type": "code",
   "execution_count": 8,
   "metadata": {},
   "outputs": [],
   "source": [
    "chi_311_filtered = chi_311_filtered[['SR_NUMBER', 'SR_TYPE', 'OWNER_DEPARTMENT',\n",
    "                                     'STATUS', 'CREATED_DATE', 'CLOSED_DATE', 'DUPLICATE',\n",
    "                                     'LEGACY_RECORD', 'LEGACY_SR_NUMBER', 'PARENT_SR_NUMBER',\n",
    "                                     'COMMUNITY_AREA', 'WARD', 'CREATED_HOUR', 'CREATED_DAY_OF_WEEK',\n",
    "                                     'CREATED_MONTH']]"
   ]
  },
  {
   "cell_type": "code",
   "execution_count": 9,
   "metadata": {},
   "outputs": [
    {
     "data": {
      "text/plain": [
       "(2702596, 15)"
      ]
     },
     "execution_count": 9,
     "metadata": {},
     "output_type": "execute_result"
    }
   ],
   "source": [
    "chi_311_filtered.shape"
   ]
  },
  {
   "cell_type": "markdown",
   "metadata": {},
   "source": [
    "Filter out legacy records:"
   ]
  },
  {
   "cell_type": "code",
   "execution_count": 10,
   "metadata": {},
   "outputs": [],
   "source": [
    "legacy = chi_311_filtered[chi_311_filtered['LEGACY_RECORD'] == True]"
   ]
  },
  {
   "cell_type": "code",
   "execution_count": 11,
   "metadata": {},
   "outputs": [
    {
     "data": {
      "text/plain": [
       "'12/18/2018 12:47:28 AM'"
      ]
     },
     "execution_count": 11,
     "metadata": {},
     "output_type": "execute_result"
    }
   ],
   "source": [
    "max(legacy['CREATED_DATE'])"
   ]
  },
  {
   "cell_type": "code",
   "execution_count": 12,
   "metadata": {},
   "outputs": [
    {
     "data": {
      "text/plain": [
       "(421791, 15)"
      ]
     },
     "execution_count": 12,
     "metadata": {},
     "output_type": "execute_result"
    }
   ],
   "source": [
    "legacy.shape"
   ]
  },
  {
   "cell_type": "code",
   "execution_count": 13,
   "metadata": {},
   "outputs": [],
   "source": [
    "chi_311_filtered = chi_311_filtered[chi_311_filtered['LEGACY_RECORD'] == False]\n",
    "chi_311_filtered = chi_311_filtered.drop(columns=['LEGACY_RECORD', 'LEGACY_SR_NUMBER'])"
   ]
  },
  {
   "cell_type": "code",
   "execution_count": 14,
   "metadata": {},
   "outputs": [
    {
     "data": {
      "text/plain": [
       "(2280805, 13)"
      ]
     },
     "execution_count": 14,
     "metadata": {},
     "output_type": "execute_result"
    }
   ],
   "source": [
    "chi_311_filtered.shape"
   ]
  },
  {
   "cell_type": "markdown",
   "metadata": {},
   "source": [
    "Filter out rows with no community area or ward"
   ]
  },
  {
   "cell_type": "code",
   "execution_count": 15,
   "metadata": {},
   "outputs": [
    {
     "data": {
      "text/plain": [
       "(26835, 13)"
      ]
     },
     "execution_count": 15,
     "metadata": {},
     "output_type": "execute_result"
    }
   ],
   "source": [
    "chi_311_filtered[chi_311_filtered['COMMUNITY_AREA'].isna()].shape"
   ]
  },
  {
   "cell_type": "code",
   "execution_count": 16,
   "metadata": {},
   "outputs": [
    {
     "data": {
      "text/plain": [
       "(26655, 13)"
      ]
     },
     "execution_count": 16,
     "metadata": {},
     "output_type": "execute_result"
    }
   ],
   "source": [
    "chi_311_filtered[chi_311_filtered['WARD'].isna()].shape"
   ]
  },
  {
   "cell_type": "code",
   "execution_count": 17,
   "metadata": {},
   "outputs": [],
   "source": [
    "chi_311_filtered = chi_311_filtered[chi_311_filtered['COMMUNITY_AREA'].notna() &\n",
    "                                    chi_311_filtered['WARD'].notna()]"
   ]
  },
  {
   "cell_type": "code",
   "execution_count": 18,
   "metadata": {},
   "outputs": [
    {
     "data": {
      "text/plain": [
       "(2253959, 13)"
      ]
     },
     "execution_count": 18,
     "metadata": {},
     "output_type": "execute_result"
    }
   ],
   "source": [
    "chi_311_filtered.shape"
   ]
  },
  {
   "cell_type": "markdown",
   "metadata": {},
   "source": [
    "(COMMENTED OUT THIS CODE) Check and remove duplicates:"
   ]
  },
  {
   "cell_type": "markdown",
   "metadata": {},
   "source": [
    "**Do we want to add a column with the total number of children that a request has?**"
   ]
  },
  {
   "cell_type": "code",
   "execution_count": 19,
   "metadata": {},
   "outputs": [],
   "source": [
    "dupes = chi_311_filtered[chi_311_filtered['DUPLICATE'] == True]"
   ]
  },
  {
   "cell_type": "code",
   "execution_count": 20,
   "metadata": {},
   "outputs": [
    {
     "data": {
      "text/html": [
       "<div>\n",
       "<style scoped>\n",
       "    .dataframe tbody tr th:only-of-type {\n",
       "        vertical-align: middle;\n",
       "    }\n",
       "\n",
       "    .dataframe tbody tr th {\n",
       "        vertical-align: top;\n",
       "    }\n",
       "\n",
       "    .dataframe thead th {\n",
       "        text-align: right;\n",
       "    }\n",
       "</style>\n",
       "<table border=\"1\" class=\"dataframe\">\n",
       "  <thead>\n",
       "    <tr style=\"text-align: right;\">\n",
       "      <th></th>\n",
       "      <th>SR_NUMBER</th>\n",
       "      <th>SR_TYPE</th>\n",
       "      <th>OWNER_DEPARTMENT</th>\n",
       "      <th>STATUS</th>\n",
       "      <th>CREATED_DATE</th>\n",
       "      <th>CLOSED_DATE</th>\n",
       "      <th>DUPLICATE</th>\n",
       "      <th>PARENT_SR_NUMBER</th>\n",
       "      <th>COMMUNITY_AREA</th>\n",
       "      <th>WARD</th>\n",
       "      <th>CREATED_HOUR</th>\n",
       "      <th>CREATED_DAY_OF_WEEK</th>\n",
       "      <th>CREATED_MONTH</th>\n",
       "    </tr>\n",
       "  </thead>\n",
       "  <tbody>\n",
       "    <tr>\n",
       "      <th>412</th>\n",
       "      <td>SR19-02557557</td>\n",
       "      <td>Pothole in Street Complaint</td>\n",
       "      <td>CDOT - Department of Transportation</td>\n",
       "      <td>Completed</td>\n",
       "      <td>09/23/2019 06:13:16 PM</td>\n",
       "      <td>12/20/2019 03:19:51 PM</td>\n",
       "      <td>True</td>\n",
       "      <td>SR19-02206459</td>\n",
       "      <td>25.0</td>\n",
       "      <td>29.0</td>\n",
       "      <td>18</td>\n",
       "      <td>2</td>\n",
       "      <td>9</td>\n",
       "    </tr>\n",
       "    <tr>\n",
       "      <th>674210</th>\n",
       "      <td>SR19-02412950</td>\n",
       "      <td>Pothole in Street Complaint</td>\n",
       "      <td>CDOT - Department of Transportation</td>\n",
       "      <td>Completed</td>\n",
       "      <td>09/07/2019 06:59:08 AM</td>\n",
       "      <td>12/20/2019 03:19:51 PM</td>\n",
       "      <td>True</td>\n",
       "      <td>SR19-02206459</td>\n",
       "      <td>25.0</td>\n",
       "      <td>29.0</td>\n",
       "      <td>6</td>\n",
       "      <td>7</td>\n",
       "      <td>9</td>\n",
       "    </tr>\n",
       "    <tr>\n",
       "      <th>766337</th>\n",
       "      <td>SR19-02786257</td>\n",
       "      <td>Pothole in Street Complaint</td>\n",
       "      <td>CDOT - Department of Transportation</td>\n",
       "      <td>Completed</td>\n",
       "      <td>10/22/2019 02:16:57 PM</td>\n",
       "      <td>12/20/2019 03:19:51 PM</td>\n",
       "      <td>True</td>\n",
       "      <td>SR19-02206459</td>\n",
       "      <td>25.0</td>\n",
       "      <td>29.0</td>\n",
       "      <td>14</td>\n",
       "      <td>3</td>\n",
       "      <td>10</td>\n",
       "    </tr>\n",
       "    <tr>\n",
       "      <th>2266793</th>\n",
       "      <td>SR19-01819033</td>\n",
       "      <td>Pothole in Street Complaint</td>\n",
       "      <td>CDOT - Department of Transportation</td>\n",
       "      <td>Completed</td>\n",
       "      <td>06/28/2019 01:58:34 PM</td>\n",
       "      <td>12/20/2019 03:19:51 PM</td>\n",
       "      <td>True</td>\n",
       "      <td>SR19-02206459</td>\n",
       "      <td>25.0</td>\n",
       "      <td>29.0</td>\n",
       "      <td>13</td>\n",
       "      <td>6</td>\n",
       "      <td>6</td>\n",
       "    </tr>\n",
       "    <tr>\n",
       "      <th>2266847</th>\n",
       "      <td>SR19-02412742</td>\n",
       "      <td>Pothole in Street Complaint</td>\n",
       "      <td>CDOT - Department of Transportation</td>\n",
       "      <td>Completed</td>\n",
       "      <td>09/07/2019 05:11:59 AM</td>\n",
       "      <td>12/20/2019 03:19:51 PM</td>\n",
       "      <td>True</td>\n",
       "      <td>SR19-02206459</td>\n",
       "      <td>25.0</td>\n",
       "      <td>29.0</td>\n",
       "      <td>5</td>\n",
       "      <td>7</td>\n",
       "      <td>9</td>\n",
       "    </tr>\n",
       "    <tr>\n",
       "      <th>2266848</th>\n",
       "      <td>SR19-02438203</td>\n",
       "      <td>Pothole in Street Complaint</td>\n",
       "      <td>CDOT - Department of Transportation</td>\n",
       "      <td>Completed</td>\n",
       "      <td>09/10/2019 10:07:29 AM</td>\n",
       "      <td>12/20/2019 03:19:51 PM</td>\n",
       "      <td>True</td>\n",
       "      <td>SR19-02206459</td>\n",
       "      <td>25.0</td>\n",
       "      <td>29.0</td>\n",
       "      <td>10</td>\n",
       "      <td>3</td>\n",
       "      <td>9</td>\n",
       "    </tr>\n",
       "    <tr>\n",
       "      <th>2266849</th>\n",
       "      <td>SR19-02438308</td>\n",
       "      <td>Pothole in Street Complaint</td>\n",
       "      <td>CDOT - Department of Transportation</td>\n",
       "      <td>Completed</td>\n",
       "      <td>09/10/2019 10:11:17 AM</td>\n",
       "      <td>12/20/2019 03:19:51 PM</td>\n",
       "      <td>True</td>\n",
       "      <td>SR19-02206459</td>\n",
       "      <td>25.0</td>\n",
       "      <td>29.0</td>\n",
       "      <td>10</td>\n",
       "      <td>3</td>\n",
       "      <td>9</td>\n",
       "    </tr>\n",
       "    <tr>\n",
       "      <th>2266867</th>\n",
       "      <td>SR19-02469775</td>\n",
       "      <td>Pothole in Street Complaint</td>\n",
       "      <td>CDOT - Department of Transportation</td>\n",
       "      <td>Completed</td>\n",
       "      <td>09/12/2019 05:43:36 PM</td>\n",
       "      <td>12/20/2019 03:19:51 PM</td>\n",
       "      <td>True</td>\n",
       "      <td>SR19-02206459</td>\n",
       "      <td>25.0</td>\n",
       "      <td>29.0</td>\n",
       "      <td>17</td>\n",
       "      <td>5</td>\n",
       "      <td>9</td>\n",
       "    </tr>\n",
       "    <tr>\n",
       "      <th>2266953</th>\n",
       "      <td>SR19-03092189</td>\n",
       "      <td>Pothole in Street Complaint</td>\n",
       "      <td>CDOT - Department of Transportation</td>\n",
       "      <td>Completed</td>\n",
       "      <td>12/06/2019 10:44:39 PM</td>\n",
       "      <td>12/20/2019 03:19:51 PM</td>\n",
       "      <td>True</td>\n",
       "      <td>SR19-02206459</td>\n",
       "      <td>25.0</td>\n",
       "      <td>29.0</td>\n",
       "      <td>22</td>\n",
       "      <td>6</td>\n",
       "      <td>12</td>\n",
       "    </tr>\n",
       "  </tbody>\n",
       "</table>\n",
       "</div>"
      ],
      "text/plain": [
       "             SR_NUMBER                      SR_TYPE  \\\n",
       "412      SR19-02557557  Pothole in Street Complaint   \n",
       "674210   SR19-02412950  Pothole in Street Complaint   \n",
       "766337   SR19-02786257  Pothole in Street Complaint   \n",
       "2266793  SR19-01819033  Pothole in Street Complaint   \n",
       "2266847  SR19-02412742  Pothole in Street Complaint   \n",
       "2266848  SR19-02438203  Pothole in Street Complaint   \n",
       "2266849  SR19-02438308  Pothole in Street Complaint   \n",
       "2266867  SR19-02469775  Pothole in Street Complaint   \n",
       "2266953  SR19-03092189  Pothole in Street Complaint   \n",
       "\n",
       "                            OWNER_DEPARTMENT     STATUS  \\\n",
       "412      CDOT - Department of Transportation  Completed   \n",
       "674210   CDOT - Department of Transportation  Completed   \n",
       "766337   CDOT - Department of Transportation  Completed   \n",
       "2266793  CDOT - Department of Transportation  Completed   \n",
       "2266847  CDOT - Department of Transportation  Completed   \n",
       "2266848  CDOT - Department of Transportation  Completed   \n",
       "2266849  CDOT - Department of Transportation  Completed   \n",
       "2266867  CDOT - Department of Transportation  Completed   \n",
       "2266953  CDOT - Department of Transportation  Completed   \n",
       "\n",
       "                   CREATED_DATE             CLOSED_DATE  DUPLICATE  \\\n",
       "412      09/23/2019 06:13:16 PM  12/20/2019 03:19:51 PM       True   \n",
       "674210   09/07/2019 06:59:08 AM  12/20/2019 03:19:51 PM       True   \n",
       "766337   10/22/2019 02:16:57 PM  12/20/2019 03:19:51 PM       True   \n",
       "2266793  06/28/2019 01:58:34 PM  12/20/2019 03:19:51 PM       True   \n",
       "2266847  09/07/2019 05:11:59 AM  12/20/2019 03:19:51 PM       True   \n",
       "2266848  09/10/2019 10:07:29 AM  12/20/2019 03:19:51 PM       True   \n",
       "2266849  09/10/2019 10:11:17 AM  12/20/2019 03:19:51 PM       True   \n",
       "2266867  09/12/2019 05:43:36 PM  12/20/2019 03:19:51 PM       True   \n",
       "2266953  12/06/2019 10:44:39 PM  12/20/2019 03:19:51 PM       True   \n",
       "\n",
       "        PARENT_SR_NUMBER  COMMUNITY_AREA  WARD  CREATED_HOUR  \\\n",
       "412        SR19-02206459            25.0  29.0            18   \n",
       "674210     SR19-02206459            25.0  29.0             6   \n",
       "766337     SR19-02206459            25.0  29.0            14   \n",
       "2266793    SR19-02206459            25.0  29.0            13   \n",
       "2266847    SR19-02206459            25.0  29.0             5   \n",
       "2266848    SR19-02206459            25.0  29.0            10   \n",
       "2266849    SR19-02206459            25.0  29.0            10   \n",
       "2266867    SR19-02206459            25.0  29.0            17   \n",
       "2266953    SR19-02206459            25.0  29.0            22   \n",
       "\n",
       "         CREATED_DAY_OF_WEEK  CREATED_MONTH  \n",
       "412                        2              9  \n",
       "674210                     7              9  \n",
       "766337                     3             10  \n",
       "2266793                    6              6  \n",
       "2266847                    7              9  \n",
       "2266848                    3              9  \n",
       "2266849                    3              9  \n",
       "2266867                    5              9  \n",
       "2266953                    6             12  "
      ]
     },
     "execution_count": 20,
     "metadata": {},
     "output_type": "execute_result"
    }
   ],
   "source": [
    "dupes[dupes['PARENT_SR_NUMBER'] == 'SR19-02206459']"
   ]
  },
  {
   "cell_type": "code",
   "execution_count": 21,
   "metadata": {},
   "outputs": [
    {
     "data": {
      "text/html": [
       "<div>\n",
       "<style scoped>\n",
       "    .dataframe tbody tr th:only-of-type {\n",
       "        vertical-align: middle;\n",
       "    }\n",
       "\n",
       "    .dataframe tbody tr th {\n",
       "        vertical-align: top;\n",
       "    }\n",
       "\n",
       "    .dataframe thead th {\n",
       "        text-align: right;\n",
       "    }\n",
       "</style>\n",
       "<table border=\"1\" class=\"dataframe\">\n",
       "  <thead>\n",
       "    <tr style=\"text-align: right;\">\n",
       "      <th></th>\n",
       "      <th>SR_NUMBER</th>\n",
       "      <th>SR_TYPE</th>\n",
       "      <th>OWNER_DEPARTMENT</th>\n",
       "      <th>STATUS</th>\n",
       "      <th>CREATED_DATE</th>\n",
       "      <th>CLOSED_DATE</th>\n",
       "      <th>DUPLICATE</th>\n",
       "      <th>PARENT_SR_NUMBER</th>\n",
       "      <th>COMMUNITY_AREA</th>\n",
       "      <th>WARD</th>\n",
       "      <th>CREATED_HOUR</th>\n",
       "      <th>CREATED_DAY_OF_WEEK</th>\n",
       "      <th>CREATED_MONTH</th>\n",
       "    </tr>\n",
       "  </thead>\n",
       "  <tbody>\n",
       "  </tbody>\n",
       "</table>\n",
       "</div>"
      ],
      "text/plain": [
       "Empty DataFrame\n",
       "Columns: [SR_NUMBER, SR_TYPE, OWNER_DEPARTMENT, STATUS, CREATED_DATE, CLOSED_DATE, DUPLICATE, PARENT_SR_NUMBER, COMMUNITY_AREA, WARD, CREATED_HOUR, CREATED_DAY_OF_WEEK, CREATED_MONTH]\n",
       "Index: []"
      ]
     },
     "execution_count": 21,
     "metadata": {},
     "output_type": "execute_result"
    }
   ],
   "source": [
    "dupes[dupes['SR_NUMBER'] == 'SR19-02206459']"
   ]
  },
  {
   "cell_type": "code",
   "execution_count": 22,
   "metadata": {},
   "outputs": [
    {
     "data": {
      "text/html": [
       "<div>\n",
       "<style scoped>\n",
       "    .dataframe tbody tr th:only-of-type {\n",
       "        vertical-align: middle;\n",
       "    }\n",
       "\n",
       "    .dataframe tbody tr th {\n",
       "        vertical-align: top;\n",
       "    }\n",
       "\n",
       "    .dataframe thead th {\n",
       "        text-align: right;\n",
       "    }\n",
       "</style>\n",
       "<table border=\"1\" class=\"dataframe\">\n",
       "  <thead>\n",
       "    <tr style=\"text-align: right;\">\n",
       "      <th></th>\n",
       "      <th>SR_NUMBER</th>\n",
       "      <th>SR_TYPE</th>\n",
       "      <th>OWNER_DEPARTMENT</th>\n",
       "      <th>STATUS</th>\n",
       "      <th>CREATED_DATE</th>\n",
       "      <th>CLOSED_DATE</th>\n",
       "      <th>DUPLICATE</th>\n",
       "      <th>PARENT_SR_NUMBER</th>\n",
       "      <th>COMMUNITY_AREA</th>\n",
       "      <th>WARD</th>\n",
       "      <th>CREATED_HOUR</th>\n",
       "      <th>CREATED_DAY_OF_WEEK</th>\n",
       "      <th>CREATED_MONTH</th>\n",
       "    </tr>\n",
       "  </thead>\n",
       "  <tbody>\n",
       "    <tr>\n",
       "      <th>761114</th>\n",
       "      <td>SR19-02206459</td>\n",
       "      <td>Pothole in Street Complaint</td>\n",
       "      <td>CDOT - Department of Transportation</td>\n",
       "      <td>Completed</td>\n",
       "      <td>08/14/2019 03:40:48 PM</td>\n",
       "      <td>12/20/2019 03:19:51 PM</td>\n",
       "      <td>False</td>\n",
       "      <td>NaN</td>\n",
       "      <td>25.0</td>\n",
       "      <td>29.0</td>\n",
       "      <td>15</td>\n",
       "      <td>4</td>\n",
       "      <td>8</td>\n",
       "    </tr>\n",
       "  </tbody>\n",
       "</table>\n",
       "</div>"
      ],
      "text/plain": [
       "            SR_NUMBER                      SR_TYPE  \\\n",
       "761114  SR19-02206459  Pothole in Street Complaint   \n",
       "\n",
       "                           OWNER_DEPARTMENT     STATUS  \\\n",
       "761114  CDOT - Department of Transportation  Completed   \n",
       "\n",
       "                  CREATED_DATE             CLOSED_DATE  DUPLICATE  \\\n",
       "761114  08/14/2019 03:40:48 PM  12/20/2019 03:19:51 PM      False   \n",
       "\n",
       "       PARENT_SR_NUMBER  COMMUNITY_AREA  WARD  CREATED_HOUR  \\\n",
       "761114              NaN            25.0  29.0            15   \n",
       "\n",
       "        CREATED_DAY_OF_WEEK  CREATED_MONTH  \n",
       "761114                    4              8  "
      ]
     },
     "execution_count": 22,
     "metadata": {},
     "output_type": "execute_result"
    }
   ],
   "source": [
    "# Looks if we remove rows where duplicate == 'True', then we don't delete the original parent request\n",
    "chi_311_filtered[chi_311_filtered['SR_NUMBER'] == 'SR19-02206459']"
   ]
  },
  {
   "cell_type": "code",
   "execution_count": 23,
   "metadata": {},
   "outputs": [
    {
     "data": {
      "text/html": [
       "<div>\n",
       "<style scoped>\n",
       "    .dataframe tbody tr th:only-of-type {\n",
       "        vertical-align: middle;\n",
       "    }\n",
       "\n",
       "    .dataframe tbody tr th {\n",
       "        vertical-align: top;\n",
       "    }\n",
       "\n",
       "    .dataframe thead th {\n",
       "        text-align: right;\n",
       "    }\n",
       "</style>\n",
       "<table border=\"1\" class=\"dataframe\">\n",
       "  <thead>\n",
       "    <tr style=\"text-align: right;\">\n",
       "      <th></th>\n",
       "      <th>SR_NUMBER</th>\n",
       "      <th>SR_TYPE</th>\n",
       "      <th>OWNER_DEPARTMENT</th>\n",
       "      <th>STATUS</th>\n",
       "      <th>CREATED_DATE</th>\n",
       "      <th>CLOSED_DATE</th>\n",
       "      <th>DUPLICATE</th>\n",
       "      <th>PARENT_SR_NUMBER</th>\n",
       "      <th>COMMUNITY_AREA</th>\n",
       "      <th>WARD</th>\n",
       "      <th>CREATED_HOUR</th>\n",
       "      <th>CREATED_DAY_OF_WEEK</th>\n",
       "      <th>CREATED_MONTH</th>\n",
       "    </tr>\n",
       "  </thead>\n",
       "  <tbody>\n",
       "    <tr>\n",
       "      <th>40</th>\n",
       "      <td>SR19-01473141</td>\n",
       "      <td>Traffic Signal Out Complaint</td>\n",
       "      <td>CDOT - Department of Transportation</td>\n",
       "      <td>Open</td>\n",
       "      <td>05/11/2019 04:27:11 PM</td>\n",
       "      <td>NaN</td>\n",
       "      <td>True</td>\n",
       "      <td>SR19-01473136</td>\n",
       "      <td>55.0</td>\n",
       "      <td>10.0</td>\n",
       "      <td>16</td>\n",
       "      <td>7</td>\n",
       "      <td>5</td>\n",
       "    </tr>\n",
       "  </tbody>\n",
       "</table>\n",
       "</div>"
      ],
      "text/plain": [
       "        SR_NUMBER                       SR_TYPE  \\\n",
       "40  SR19-01473141  Traffic Signal Out Complaint   \n",
       "\n",
       "                       OWNER_DEPARTMENT STATUS            CREATED_DATE  \\\n",
       "40  CDOT - Department of Transportation   Open  05/11/2019 04:27:11 PM   \n",
       "\n",
       "   CLOSED_DATE  DUPLICATE PARENT_SR_NUMBER  COMMUNITY_AREA  WARD  \\\n",
       "40         NaN       True    SR19-01473136            55.0  10.0   \n",
       "\n",
       "    CREATED_HOUR  CREATED_DAY_OF_WEEK  CREATED_MONTH  \n",
       "40            16                    7              5  "
      ]
     },
     "execution_count": 23,
     "metadata": {},
     "output_type": "execute_result"
    }
   ],
   "source": [
    "dupes[dupes['PARENT_SR_NUMBER'] == 'SR19-01473136']"
   ]
  },
  {
   "cell_type": "code",
   "execution_count": 24,
   "metadata": {},
   "outputs": [
    {
     "data": {
      "text/html": [
       "<div>\n",
       "<style scoped>\n",
       "    .dataframe tbody tr th:only-of-type {\n",
       "        vertical-align: middle;\n",
       "    }\n",
       "\n",
       "    .dataframe tbody tr th {\n",
       "        vertical-align: top;\n",
       "    }\n",
       "\n",
       "    .dataframe thead th {\n",
       "        text-align: right;\n",
       "    }\n",
       "</style>\n",
       "<table border=\"1\" class=\"dataframe\">\n",
       "  <thead>\n",
       "    <tr style=\"text-align: right;\">\n",
       "      <th></th>\n",
       "      <th>SR_NUMBER</th>\n",
       "      <th>SR_TYPE</th>\n",
       "      <th>OWNER_DEPARTMENT</th>\n",
       "      <th>STATUS</th>\n",
       "      <th>CREATED_DATE</th>\n",
       "      <th>CLOSED_DATE</th>\n",
       "      <th>DUPLICATE</th>\n",
       "      <th>PARENT_SR_NUMBER</th>\n",
       "      <th>COMMUNITY_AREA</th>\n",
       "      <th>WARD</th>\n",
       "      <th>CREATED_HOUR</th>\n",
       "      <th>CREATED_DAY_OF_WEEK</th>\n",
       "      <th>CREATED_MONTH</th>\n",
       "    </tr>\n",
       "  </thead>\n",
       "  <tbody>\n",
       "    <tr>\n",
       "      <th>3809668</th>\n",
       "      <td>SR19-01473136</td>\n",
       "      <td>Traffic Signal Out Complaint</td>\n",
       "      <td>CDOT - Department of Transportation</td>\n",
       "      <td>Open</td>\n",
       "      <td>05/11/2019 04:26:20 PM</td>\n",
       "      <td>NaN</td>\n",
       "      <td>False</td>\n",
       "      <td>NaN</td>\n",
       "      <td>55.0</td>\n",
       "      <td>10.0</td>\n",
       "      <td>16</td>\n",
       "      <td>7</td>\n",
       "      <td>5</td>\n",
       "    </tr>\n",
       "  </tbody>\n",
       "</table>\n",
       "</div>"
      ],
      "text/plain": [
       "             SR_NUMBER                       SR_TYPE  \\\n",
       "3809668  SR19-01473136  Traffic Signal Out Complaint   \n",
       "\n",
       "                            OWNER_DEPARTMENT STATUS            CREATED_DATE  \\\n",
       "3809668  CDOT - Department of Transportation   Open  05/11/2019 04:26:20 PM   \n",
       "\n",
       "        CLOSED_DATE  DUPLICATE PARENT_SR_NUMBER  COMMUNITY_AREA  WARD  \\\n",
       "3809668         NaN      False              NaN            55.0  10.0   \n",
       "\n",
       "         CREATED_HOUR  CREATED_DAY_OF_WEEK  CREATED_MONTH  \n",
       "3809668            16                    7              5  "
      ]
     },
     "execution_count": 24,
     "metadata": {},
     "output_type": "execute_result"
    }
   ],
   "source": [
    "chi_311_filtered[chi_311_filtered['SR_NUMBER'] == 'SR19-01473136']"
   ]
  },
  {
   "cell_type": "code",
   "execution_count": 25,
   "metadata": {},
   "outputs": [],
   "source": [
    "# chi_311_filtered = chi_311_filtered[chi_311_filtered['DUPLICATE'] == False]\n",
    "# chi_311_filtered = chi_311_filtered.drop(columns=['DUPLICATE', 'PARENT_SR_NUMBER'])"
   ]
  },
  {
   "cell_type": "code",
   "execution_count": 26,
   "metadata": {},
   "outputs": [],
   "source": [
    "# chi_311_filtered.shape"
   ]
  },
  {
   "cell_type": "markdown",
   "metadata": {},
   "source": [
    "Filtered out complaints resolved in very short period of time -\n",
    "NEED TO DECIDE WHICH COMPLAINTS TO FILTER OUT!!; do we want to filter out request types with more than a certain % fulfilled in less than X minutes?"
   ]
  },
  {
   "cell_type": "code",
   "execution_count": 27,
   "metadata": {},
   "outputs": [],
   "source": [
    "chi_311_filtered['CREATED_DATE'] = pd.to_datetime(chi_311_filtered['CREATED_DATE'],\n",
    "                                                  format='%m/%d/%Y %I:%M:%S %p')\n",
    "chi_311_filtered['CLOSED_DATE'] = pd.to_datetime(chi_311_filtered['CLOSED_DATE'],\n",
    "                                                format='%m/%d/%Y %I:%M:%S %p')"
   ]
  },
  {
   "cell_type": "code",
   "execution_count": 28,
   "metadata": {},
   "outputs": [],
   "source": [
    "chi_311_filtered['time_to_close'] = chi_311_filtered['CLOSED_DATE'] - \\\n",
    "                                        chi_311_filtered['CREATED_DATE']"
   ]
  },
  {
   "cell_type": "code",
   "execution_count": 29,
   "metadata": {},
   "outputs": [],
   "source": [
    "chi_311_filtered['time_to_close_sec'] = chi_311_filtered['time_to_close'].dt.total_seconds()"
   ]
  },
  {
   "cell_type": "code",
   "execution_count": 46,
   "metadata": {},
   "outputs": [],
   "source": [
    "chi_311_filtered = chi_311_filtered.drop(columns=['time_to_close'])"
   ]
  },
  {
   "cell_type": "code",
   "execution_count": 30,
   "metadata": {},
   "outputs": [
    {
     "data": {
      "text/plain": [
       "(402913, 15)"
      ]
     },
     "execution_count": 30,
     "metadata": {},
     "output_type": "execute_result"
    }
   ],
   "source": [
    "# Requests resolved in 0 seconds\n",
    "chi_311_filtered[chi_311_filtered['time_to_close_sec'] == 0].shape"
   ]
  },
  {
   "cell_type": "code",
   "execution_count": 31,
   "metadata": {},
   "outputs": [
    {
     "data": {
      "text/plain": [
       "(770925, 15)"
      ]
     },
     "execution_count": 31,
     "metadata": {},
     "output_type": "execute_result"
    }
   ],
   "source": [
    "# Requests resolved in less than 1 minute\n",
    "chi_311_filtered[chi_311_filtered['time_to_close_sec'] < 60].shape"
   ]
  },
  {
   "cell_type": "code",
   "execution_count": 32,
   "metadata": {},
   "outputs": [
    {
     "data": {
      "text/plain": [
       "(846269, 15)"
      ]
     },
     "execution_count": 32,
     "metadata": {},
     "output_type": "execute_result"
    }
   ],
   "source": [
    "# Requests resolved in less than 10 minute\n",
    "chi_311_filtered[chi_311_filtered['time_to_close_sec'] < 600].shape"
   ]
  },
  {
   "cell_type": "code",
   "execution_count": 33,
   "metadata": {},
   "outputs": [
    {
     "data": {
      "text/plain": [
       "(1097323, 15)"
      ]
     },
     "execution_count": 33,
     "metadata": {},
     "output_type": "execute_result"
    }
   ],
   "source": [
    "# Requests resolved in less than 1 day\n",
    "chi_311_filtered[chi_311_filtered['time_to_close_sec'] < 86400].shape"
   ]
  },
  {
   "cell_type": "code",
   "execution_count": 34,
   "metadata": {},
   "outputs": [
    {
     "data": {
      "text/plain": [
       "Aircraft Noise Complaint                     584578\n",
       "Weed Removal Request                          96013\n",
       "Graffiti Removal Request                      81066\n",
       "Sign Repair Request - All Other Signs         40096\n",
       "Pothole in Street Complaint                    8264\n",
       "                                              ...  \n",
       "Home Buyer Program Info Request                   1\n",
       "Clean and Green Program Request                   1\n",
       "Protected Bike Lane - Debris Removal              1\n",
       "Pavement Cave-In Inspection Request               1\n",
       "Bungalow/Vintage Home Information Request         1\n",
       "Name: SR_TYPE, Length: 78, dtype: int64"
      ]
     },
     "execution_count": 34,
     "metadata": {},
     "output_type": "execute_result"
    }
   ],
   "source": [
    "# Types of requests resolved in less than 10 minutes\n",
    "chi_311_filtered[chi_311_filtered['time_to_close_sec'] < 600]['SR_TYPE'].value_counts()"
   ]
  },
  {
   "cell_type": "code",
   "execution_count": 35,
   "metadata": {},
   "outputs": [],
   "source": [
    "# Filter out requests resolved in less than a minute\n",
    "# chi_311_filtered = chi_311_filtered[chi_311_filtered['time_to_close_sec'] >= 60]"
   ]
  },
  {
   "cell_type": "code",
   "execution_count": 36,
   "metadata": {},
   "outputs": [
    {
     "data": {
      "text/plain": [
       "Aircraft Noise Complaint                     584578\n",
       "Weed Removal Request                          96013\n",
       "Graffiti Removal Request                      81066\n",
       "Sign Repair Request - All Other Signs         40096\n",
       "Pothole in Street Complaint                    8264\n",
       "                                              ...  \n",
       "Home Buyer Program Info Request                   1\n",
       "Clean and Green Program Request                   1\n",
       "Protected Bike Lane - Debris Removal              1\n",
       "Pavement Cave-In Inspection Request               1\n",
       "Bungalow/Vintage Home Information Request         1\n",
       "Name: SR_TYPE, Length: 78, dtype: int64"
      ]
     },
     "execution_count": 36,
     "metadata": {},
     "output_type": "execute_result"
    }
   ],
   "source": [
    "chi_311_filtered[chi_311_filtered['time_to_close_sec'] < 600]['SR_TYPE'].value_counts()"
   ]
  },
  {
   "cell_type": "markdown",
   "metadata": {},
   "source": [
    "Pickle filtered file:"
   ]
  },
  {
   "cell_type": "code",
   "execution_count": 47,
   "metadata": {},
   "outputs": [],
   "source": [
    "# chi_311_filtered.to_pickle(\"../pickle_files/chi_311.pkl\")"
   ]
  }
 ],
 "metadata": {
  "kernelspec": {
   "display_name": "geo_env",
   "language": "python",
   "name": "geo_env"
  },
  "language_info": {
   "codemirror_mode": {
    "name": "ipython",
    "version": 3
   },
   "file_extension": ".py",
   "mimetype": "text/x-python",
   "name": "python",
   "nbconvert_exporter": "python",
   "pygments_lexer": "ipython3",
   "version": "3.8.2"
  }
 },
 "nbformat": 4,
 "nbformat_minor": 4
}
