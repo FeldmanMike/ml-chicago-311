{
 "cells": [
  {
   "cell_type": "code",
   "execution_count": 1,
   "metadata": {},
   "outputs": [],
   "source": [
    "%load_ext autoreload"
   ]
  },
  {
   "cell_type": "code",
   "execution_count": 49,
   "metadata": {},
   "outputs": [
    {
     "ename": "AttributeError",
     "evalue": "'LGEOS360' object has no attribute 'GEOSMinimumClearance'",
     "output_type": "error",
     "traceback": [
      "\u001b[0;31m---------------------------------------------------------------------\u001b[0m",
      "\u001b[0;31mAttributeError\u001b[0m                      Traceback (most recent call last)",
      "\u001b[0;32m<ipython-input-49-9584153a7554>\u001b[0m in \u001b[0;36m<module>\u001b[0;34m\u001b[0m\n\u001b[1;32m      1\u001b[0m \u001b[0;32mimport\u001b[0m \u001b[0mpandas\u001b[0m \u001b[0;32mas\u001b[0m \u001b[0mpd\u001b[0m\u001b[0;34m\u001b[0m\u001b[0;34m\u001b[0m\u001b[0m\n\u001b[0;32m----> 2\u001b[0;31m \u001b[0;32mimport\u001b[0m \u001b[0mgeopandas\u001b[0m \u001b[0;32mas\u001b[0m \u001b[0mgpd\u001b[0m\u001b[0;34m\u001b[0m\u001b[0;34m\u001b[0m\u001b[0m\n\u001b[0m\u001b[1;32m      3\u001b[0m \u001b[0;32mimport\u001b[0m \u001b[0mdatetime\u001b[0m \u001b[0;32mas\u001b[0m \u001b[0mdt\u001b[0m\u001b[0;34m\u001b[0m\u001b[0;34m\u001b[0m\u001b[0m\n",
      "\u001b[0;32m~/opt/anaconda3/envs/geo_env/lib/python3.8/site-packages/geopandas/__init__.py\u001b[0m in \u001b[0;36m<module>\u001b[0;34m\u001b[0m\n\u001b[0;32m----> 1\u001b[0;31m \u001b[0;32mfrom\u001b[0m \u001b[0mgeopandas\u001b[0m\u001b[0;34m.\u001b[0m\u001b[0mgeoseries\u001b[0m \u001b[0;32mimport\u001b[0m \u001b[0mGeoSeries\u001b[0m  \u001b[0;31m# noqa\u001b[0m\u001b[0;34m\u001b[0m\u001b[0;34m\u001b[0m\u001b[0m\n\u001b[0m\u001b[1;32m      2\u001b[0m \u001b[0;32mfrom\u001b[0m \u001b[0mgeopandas\u001b[0m\u001b[0;34m.\u001b[0m\u001b[0mgeodataframe\u001b[0m \u001b[0;32mimport\u001b[0m \u001b[0mGeoDataFrame\u001b[0m  \u001b[0;31m# noqa\u001b[0m\u001b[0;34m\u001b[0m\u001b[0;34m\u001b[0m\u001b[0m\n\u001b[1;32m      3\u001b[0m \u001b[0;32mfrom\u001b[0m \u001b[0mgeopandas\u001b[0m\u001b[0;34m.\u001b[0m\u001b[0marray\u001b[0m \u001b[0;32mimport\u001b[0m \u001b[0m_points_from_xy\u001b[0m \u001b[0;32mas\u001b[0m \u001b[0mpoints_from_xy\u001b[0m  \u001b[0;31m# noqa\u001b[0m\u001b[0;34m\u001b[0m\u001b[0;34m\u001b[0m\u001b[0m\n\u001b[1;32m      4\u001b[0m \u001b[0;34m\u001b[0m\u001b[0m\n\u001b[1;32m      5\u001b[0m \u001b[0;32mfrom\u001b[0m \u001b[0mgeopandas\u001b[0m\u001b[0;34m.\u001b[0m\u001b[0mio\u001b[0m\u001b[0;34m.\u001b[0m\u001b[0mfile\u001b[0m \u001b[0;32mimport\u001b[0m \u001b[0mread_file\u001b[0m  \u001b[0;31m# noqa\u001b[0m\u001b[0;34m\u001b[0m\u001b[0;34m\u001b[0m\u001b[0m\n",
      "\u001b[0;32m~/opt/anaconda3/envs/geo_env/lib/python3.8/site-packages/geopandas/geoseries.py\u001b[0m in \u001b[0;36m<module>\u001b[0;34m\u001b[0m\n\u001b[1;32m      8\u001b[0m \u001b[0;34m\u001b[0m\u001b[0m\n\u001b[1;32m      9\u001b[0m \u001b[0;32mfrom\u001b[0m \u001b[0mpyproj\u001b[0m \u001b[0;32mimport\u001b[0m \u001b[0mCRS\u001b[0m\u001b[0;34m,\u001b[0m \u001b[0mTransformer\u001b[0m\u001b[0;34m\u001b[0m\u001b[0;34m\u001b[0m\u001b[0m\n\u001b[0;32m---> 10\u001b[0;31m \u001b[0;32mfrom\u001b[0m \u001b[0mshapely\u001b[0m\u001b[0;34m.\u001b[0m\u001b[0mgeometry\u001b[0m\u001b[0;34m.\u001b[0m\u001b[0mbase\u001b[0m \u001b[0;32mimport\u001b[0m \u001b[0mBaseGeometry\u001b[0m\u001b[0;34m\u001b[0m\u001b[0;34m\u001b[0m\u001b[0m\n\u001b[0m\u001b[1;32m     11\u001b[0m \u001b[0;32mfrom\u001b[0m \u001b[0mshapely\u001b[0m\u001b[0;34m.\u001b[0m\u001b[0mops\u001b[0m \u001b[0;32mimport\u001b[0m \u001b[0mtransform\u001b[0m\u001b[0;34m\u001b[0m\u001b[0;34m\u001b[0m\u001b[0m\n\u001b[1;32m     12\u001b[0m \u001b[0;34m\u001b[0m\u001b[0m\n",
      "\u001b[0;32m~/opt/anaconda3/envs/geo_env/lib/python3.8/site-packages/shapely/geometry/__init__.py\u001b[0m in \u001b[0;36m<module>\u001b[0;34m\u001b[0m\n\u001b[1;32m      2\u001b[0m \"\"\"\n\u001b[1;32m      3\u001b[0m \u001b[0;34m\u001b[0m\u001b[0m\n\u001b[0;32m----> 4\u001b[0;31m \u001b[0;32mfrom\u001b[0m \u001b[0;34m.\u001b[0m\u001b[0mbase\u001b[0m \u001b[0;32mimport\u001b[0m \u001b[0mCAP_STYLE\u001b[0m\u001b[0;34m,\u001b[0m \u001b[0mJOIN_STYLE\u001b[0m\u001b[0;34m\u001b[0m\u001b[0;34m\u001b[0m\u001b[0m\n\u001b[0m\u001b[1;32m      5\u001b[0m \u001b[0;32mfrom\u001b[0m \u001b[0;34m.\u001b[0m\u001b[0mgeo\u001b[0m \u001b[0;32mimport\u001b[0m \u001b[0mbox\u001b[0m\u001b[0;34m,\u001b[0m \u001b[0mshape\u001b[0m\u001b[0;34m,\u001b[0m \u001b[0masShape\u001b[0m\u001b[0;34m,\u001b[0m \u001b[0mmapping\u001b[0m\u001b[0;34m\u001b[0m\u001b[0;34m\u001b[0m\u001b[0m\n\u001b[1;32m      6\u001b[0m \u001b[0;32mfrom\u001b[0m \u001b[0;34m.\u001b[0m\u001b[0mpoint\u001b[0m \u001b[0;32mimport\u001b[0m \u001b[0mPoint\u001b[0m\u001b[0;34m,\u001b[0m \u001b[0masPoint\u001b[0m\u001b[0;34m\u001b[0m\u001b[0;34m\u001b[0m\u001b[0m\n",
      "\u001b[0;32m~/opt/anaconda3/envs/geo_env/lib/python3.8/site-packages/shapely/geometry/base.py\u001b[0m in \u001b[0;36m<module>\u001b[0;34m\u001b[0m\n\u001b[1;32m     17\u001b[0m \u001b[0;34m\u001b[0m\u001b[0m\n\u001b[1;32m     18\u001b[0m \u001b[0;32mfrom\u001b[0m \u001b[0mshapely\u001b[0m\u001b[0;34m.\u001b[0m\u001b[0maffinity\u001b[0m \u001b[0;32mimport\u001b[0m \u001b[0maffine_transform\u001b[0m\u001b[0;34m\u001b[0m\u001b[0;34m\u001b[0m\u001b[0m\n\u001b[0;32m---> 19\u001b[0;31m \u001b[0;32mfrom\u001b[0m \u001b[0mshapely\u001b[0m\u001b[0;34m.\u001b[0m\u001b[0mcoords\u001b[0m \u001b[0;32mimport\u001b[0m \u001b[0mCoordinateSequence\u001b[0m\u001b[0;34m\u001b[0m\u001b[0;34m\u001b[0m\u001b[0m\n\u001b[0m\u001b[1;32m     20\u001b[0m \u001b[0;32mfrom\u001b[0m \u001b[0mshapely\u001b[0m\u001b[0;34m.\u001b[0m\u001b[0merrors\u001b[0m \u001b[0;32mimport\u001b[0m \u001b[0mWKBReadingError\u001b[0m\u001b[0;34m,\u001b[0m \u001b[0mWKTReadingError\u001b[0m\u001b[0;34m\u001b[0m\u001b[0;34m\u001b[0m\u001b[0m\n\u001b[1;32m     21\u001b[0m \u001b[0;32mfrom\u001b[0m \u001b[0mshapely\u001b[0m\u001b[0;34m.\u001b[0m\u001b[0mgeos\u001b[0m \u001b[0;32mimport\u001b[0m \u001b[0mWKBWriter\u001b[0m\u001b[0;34m,\u001b[0m \u001b[0mWKTWriter\u001b[0m\u001b[0;34m\u001b[0m\u001b[0;34m\u001b[0m\u001b[0m\n",
      "\u001b[0;32m~/opt/anaconda3/envs/geo_env/lib/python3.8/site-packages/shapely/coords.py\u001b[0m in \u001b[0;36m<module>\u001b[0;34m\u001b[0m\n\u001b[1;32m      6\u001b[0m \u001b[0;32mfrom\u001b[0m \u001b[0mctypes\u001b[0m \u001b[0;32mimport\u001b[0m \u001b[0mbyref\u001b[0m\u001b[0;34m,\u001b[0m \u001b[0mc_double\u001b[0m\u001b[0;34m,\u001b[0m \u001b[0mc_uint\u001b[0m\u001b[0;34m\u001b[0m\u001b[0;34m\u001b[0m\u001b[0m\n\u001b[1;32m      7\u001b[0m \u001b[0;34m\u001b[0m\u001b[0m\n\u001b[0;32m----> 8\u001b[0;31m \u001b[0;32mfrom\u001b[0m \u001b[0mshapely\u001b[0m\u001b[0;34m.\u001b[0m\u001b[0mgeos\u001b[0m \u001b[0;32mimport\u001b[0m \u001b[0mlgeos\u001b[0m\u001b[0;34m\u001b[0m\u001b[0;34m\u001b[0m\u001b[0m\n\u001b[0m\u001b[1;32m      9\u001b[0m \u001b[0;32mfrom\u001b[0m \u001b[0mshapely\u001b[0m\u001b[0;34m.\u001b[0m\u001b[0mtopology\u001b[0m \u001b[0;32mimport\u001b[0m \u001b[0mValidating\u001b[0m\u001b[0;34m\u001b[0m\u001b[0;34m\u001b[0m\u001b[0m\n\u001b[1;32m     10\u001b[0m \u001b[0;34m\u001b[0m\u001b[0m\n",
      "\u001b[0;32m~/opt/anaconda3/envs/geo_env/lib/python3.8/site-packages/shapely/geos.py\u001b[0m in \u001b[0;36m<module>\u001b[0;34m\u001b[0m\n\u001b[1;32m    903\u001b[0m     \u001b[0mL\u001b[0m \u001b[0;34m=\u001b[0m \u001b[0mLGEOS300\u001b[0m\u001b[0;34m\u001b[0m\u001b[0;34m\u001b[0m\u001b[0m\n\u001b[1;32m    904\u001b[0m \u001b[0;34m\u001b[0m\u001b[0m\n\u001b[0;32m--> 905\u001b[0;31m \u001b[0mlgeos\u001b[0m \u001b[0;34m=\u001b[0m \u001b[0mL\u001b[0m\u001b[0;34m(\u001b[0m\u001b[0m_lgeos\u001b[0m\u001b[0;34m)\u001b[0m\u001b[0;34m\u001b[0m\u001b[0;34m\u001b[0m\u001b[0m\n\u001b[0m\u001b[1;32m    906\u001b[0m \u001b[0;34m\u001b[0m\u001b[0m\n\u001b[1;32m    907\u001b[0m \u001b[0;34m\u001b[0m\u001b[0m\n",
      "\u001b[0;32m~/opt/anaconda3/envs/geo_env/lib/python3.8/site-packages/shapely/geos.py\u001b[0m in \u001b[0;36m__init__\u001b[0;34m(self, dll)\u001b[0m\n\u001b[1;32m    883\u001b[0m     \u001b[0;32mdef\u001b[0m \u001b[0m__init__\u001b[0m\u001b[0;34m(\u001b[0m\u001b[0mself\u001b[0m\u001b[0;34m,\u001b[0m \u001b[0mdll\u001b[0m\u001b[0;34m)\u001b[0m\u001b[0;34m:\u001b[0m\u001b[0;34m\u001b[0m\u001b[0;34m\u001b[0m\u001b[0m\n\u001b[1;32m    884\u001b[0m         \u001b[0msuper\u001b[0m\u001b[0;34m(\u001b[0m\u001b[0mLGEOS360\u001b[0m\u001b[0;34m,\u001b[0m \u001b[0mself\u001b[0m\u001b[0;34m)\u001b[0m\u001b[0;34m.\u001b[0m\u001b[0m__init__\u001b[0m\u001b[0;34m(\u001b[0m\u001b[0mdll\u001b[0m\u001b[0;34m)\u001b[0m\u001b[0;34m\u001b[0m\u001b[0;34m\u001b[0m\u001b[0m\n\u001b[0;32m--> 885\u001b[0;31m         \u001b[0mself\u001b[0m\u001b[0;34m.\u001b[0m\u001b[0mmethods\u001b[0m\u001b[0;34m[\u001b[0m\u001b[0;34m'minimum_clearance'\u001b[0m\u001b[0;34m]\u001b[0m \u001b[0;34m=\u001b[0m \u001b[0mself\u001b[0m\u001b[0;34m.\u001b[0m\u001b[0mGEOSMinimumClearance\u001b[0m\u001b[0;34m\u001b[0m\u001b[0;34m\u001b[0m\u001b[0m\n\u001b[0m\u001b[1;32m    886\u001b[0m \u001b[0;34m\u001b[0m\u001b[0m\n\u001b[1;32m    887\u001b[0m \u001b[0;34m\u001b[0m\u001b[0m\n",
      "\u001b[0;31mAttributeError\u001b[0m: 'LGEOS360' object has no attribute 'GEOSMinimumClearance'"
     ]
    }
   ],
   "source": [
    "import pandas as pd\n",
    "import geopandas as gpd\n",
    "import datetime as dt"
   ]
  },
  {
   "cell_type": "markdown",
   "metadata": {},
   "source": [
    "Read in downloaded CSV file:"
   ]
  },
  {
   "cell_type": "code",
   "execution_count": 3,
   "metadata": {},
   "outputs": [
    {
     "name": "stderr",
     "output_type": "stream",
     "text": [
      "/Users/michaelfeldman/opt/anaconda3/envs/geo_env/lib/python3.8/site-packages/IPython/core/interactiveshell.py:3062: DtypeWarning: Columns (11,12,18,19,28) have mixed types.Specify dtype option on import or set low_memory=False.\n",
      "  has_raised = await self.run_ast_nodes(code_ast.body, cell_name,\n"
     ]
    }
   ],
   "source": [
    "chi_311 = pd.read_csv('../raw_data/chicago_311_requests.csv')"
   ]
  },
  {
   "cell_type": "code",
   "execution_count": 4,
   "metadata": {},
   "outputs": [
    {
     "data": {
      "text/plain": [
       "(4080622, 37)"
      ]
     },
     "execution_count": 4,
     "metadata": {},
     "output_type": "execute_result"
    }
   ],
   "source": [
    "chi_311.shape"
   ]
  },
  {
   "cell_type": "markdown",
   "metadata": {},
   "source": [
    "Filter dataframe to exclude info-only calls:"
   ]
  },
  {
   "cell_type": "code",
   "execution_count": 5,
   "metadata": {},
   "outputs": [],
   "source": [
    "chi_311_filtered = chi_311[chi_311['SR_TYPE'] != '311 INFORMATION ONLY CALL']"
   ]
  },
  {
   "cell_type": "code",
   "execution_count": 6,
   "metadata": {},
   "outputs": [
    {
     "data": {
      "text/plain": [
       "(2702596, 37)"
      ]
     },
     "execution_count": 6,
     "metadata": {},
     "output_type": "execute_result"
    }
   ],
   "source": [
    "chi_311_filtered.shape"
   ]
  },
  {
   "cell_type": "markdown",
   "metadata": {},
   "source": [
    "Filter for columns needed:"
   ]
  },
  {
   "cell_type": "code",
   "execution_count": 7,
   "metadata": {},
   "outputs": [
    {
     "data": {
      "text/plain": [
       "Index(['SR_NUMBER', 'SR_TYPE', 'SR_SHORT_CODE', 'OWNER_DEPARTMENT', 'STATUS',\n",
       "       'CREATED_DATE', 'LAST_MODIFIED_DATE', 'CLOSED_DATE', 'STREET_ADDRESS',\n",
       "       'CITY', 'STATE', 'ZIP_CODE', 'STREET_NUMBER', 'STREET_DIRECTION',\n",
       "       'STREET_NAME', 'STREET_TYPE', 'DUPLICATE', 'LEGACY_RECORD',\n",
       "       'LEGACY_SR_NUMBER', 'PARENT_SR_NUMBER', 'COMMUNITY_AREA', 'WARD',\n",
       "       'ELECTRICAL_DISTRICT', 'ELECTRICITY_GRID', 'POLICE_SECTOR',\n",
       "       'POLICE_DISTRICT', 'POLICE_BEAT', 'PRECINCT',\n",
       "       'SANITATION_DIVISION_DAYS', 'CREATED_HOUR', 'CREATED_DAY_OF_WEEK',\n",
       "       'CREATED_MONTH', 'X_COORDINATE', 'Y_COORDINATE', 'LATITUDE',\n",
       "       'LONGITUDE', 'LOCATION'],\n",
       "      dtype='object')"
      ]
     },
     "execution_count": 7,
     "metadata": {},
     "output_type": "execute_result"
    }
   ],
   "source": [
    "chi_311_filtered.columns"
   ]
  },
  {
   "cell_type": "code",
   "execution_count": 8,
   "metadata": {},
   "outputs": [],
   "source": [
    "chi_311_filtered = chi_311_filtered[['SR_NUMBER', 'SR_TYPE', 'OWNER_DEPARTMENT',\n",
    "                                     'STATUS', 'CREATED_DATE', 'CLOSED_DATE', 'DUPLICATE',\n",
    "                                     'LEGACY_RECORD', 'LEGACY_SR_NUMBER', 'PARENT_SR_NUMBER',\n",
    "                                     'COMMUNITY_AREA', 'WARD', 'CREATED_HOUR', 'CREATED_DAY_OF_WEEK',\n",
    "                                     'CREATED_MONTH', 'LATITUDE', 'LONGITUDE', 'LOCATION']]"
   ]
  },
  {
   "cell_type": "code",
   "execution_count": 9,
   "metadata": {},
   "outputs": [
    {
     "data": {
      "text/plain": [
       "(2702596, 18)"
      ]
     },
     "execution_count": 9,
     "metadata": {},
     "output_type": "execute_result"
    }
   ],
   "source": [
    "chi_311_filtered.shape"
   ]
  },
  {
   "cell_type": "markdown",
   "metadata": {},
   "source": [
    "Filter out legacy records:"
   ]
  },
  {
   "cell_type": "code",
   "execution_count": 10,
   "metadata": {},
   "outputs": [],
   "source": [
    "legacy = chi_311_filtered[chi_311_filtered['LEGACY_RECORD'] == True]"
   ]
  },
  {
   "cell_type": "code",
   "execution_count": 11,
   "metadata": {},
   "outputs": [
    {
     "data": {
      "text/plain": [
       "'12/18/2018 12:47:28 AM'"
      ]
     },
     "execution_count": 11,
     "metadata": {},
     "output_type": "execute_result"
    }
   ],
   "source": [
    "max(legacy['CREATED_DATE'])"
   ]
  },
  {
   "cell_type": "code",
   "execution_count": 12,
   "metadata": {},
   "outputs": [
    {
     "data": {
      "text/plain": [
       "(421791, 18)"
      ]
     },
     "execution_count": 12,
     "metadata": {},
     "output_type": "execute_result"
    }
   ],
   "source": [
    "legacy.shape"
   ]
  },
  {
   "cell_type": "code",
   "execution_count": 13,
   "metadata": {},
   "outputs": [],
   "source": [
    "chi_311_filtered = chi_311_filtered[chi_311_filtered['LEGACY_RECORD'] == False]\n",
    "chi_311_filtered = chi_311_filtered.drop(columns=['LEGACY_RECORD', 'LEGACY_SR_NUMBER'])"
   ]
  },
  {
   "cell_type": "code",
   "execution_count": 14,
   "metadata": {},
   "outputs": [
    {
     "data": {
      "text/plain": [
       "(2280805, 16)"
      ]
     },
     "execution_count": 14,
     "metadata": {},
     "output_type": "execute_result"
    }
   ],
   "source": [
    "chi_311_filtered.shape"
   ]
  },
  {
   "cell_type": "markdown",
   "metadata": {},
   "source": [
    "Check which rows have no location and remove them:"
   ]
  },
  {
   "cell_type": "code",
   "execution_count": 15,
   "metadata": {},
   "outputs": [],
   "source": [
    "no_loc = chi_311_filtered[chi_311_filtered['LOCATION'].isna()]"
   ]
  },
  {
   "cell_type": "code",
   "execution_count": 16,
   "metadata": {},
   "outputs": [
    {
     "data": {
      "text/plain": [
       "(25165, 16)"
      ]
     },
     "execution_count": 16,
     "metadata": {},
     "output_type": "execute_result"
    }
   ],
   "source": [
    "no_loc.shape"
   ]
  },
  {
   "cell_type": "code",
   "execution_count": 17,
   "metadata": {},
   "outputs": [],
   "source": [
    "# Make sure records with no location also have no latitude\n",
    "no_lat = chi_311_filtered[chi_311_filtered['LATITUDE'].isna()]"
   ]
  },
  {
   "cell_type": "code",
   "execution_count": 18,
   "metadata": {},
   "outputs": [
    {
     "data": {
      "text/plain": [
       "(25165, 16)"
      ]
     },
     "execution_count": 18,
     "metadata": {},
     "output_type": "execute_result"
    }
   ],
   "source": [
    "no_lat.shape"
   ]
  },
  {
   "cell_type": "code",
   "execution_count": 19,
   "metadata": {},
   "outputs": [
    {
     "data": {
      "text/plain": [
       "Aircraft Noise Complaint                            17081\n",
       "Graffiti Removal Request                             1470\n",
       "Pothole in Street Complaint                          1115\n",
       "Street Light Out Complaint                            885\n",
       "Weed Removal Request                                  464\n",
       "                                                    ...  \n",
       "Tobacco - Sale to Minors Complaint                      1\n",
       "Sidewalk Cafe Complaint                                 1\n",
       "Recycling Inspection Request                            1\n",
       "Porch Inspection Request                                1\n",
       "Licensed Pharmaceutical Representative Complaint        1\n",
       "Name: SR_TYPE, Length: 84, dtype: int64"
      ]
     },
     "execution_count": 19,
     "metadata": {},
     "output_type": "execute_result"
    }
   ],
   "source": [
    "# Check which request types have no location (looks to be mostly noise complaints)\n",
    "no_loc['SR_TYPE'].value_counts()"
   ]
  },
  {
   "cell_type": "code",
   "execution_count": 20,
   "metadata": {},
   "outputs": [],
   "source": [
    "chi_311_filtered = chi_311_filtered[chi_311_filtered['LOCATION'].notna()]"
   ]
  },
  {
   "cell_type": "code",
   "execution_count": 21,
   "metadata": {},
   "outputs": [
    {
     "data": {
      "text/plain": [
       "(2255640, 16)"
      ]
     },
     "execution_count": 21,
     "metadata": {},
     "output_type": "execute_result"
    }
   ],
   "source": [
    "chi_311_filtered.shape"
   ]
  },
  {
   "cell_type": "markdown",
   "metadata": {},
   "source": [
    "Filter out rows with no community area or ward"
   ]
  },
  {
   "cell_type": "code",
   "execution_count": 22,
   "metadata": {},
   "outputs": [
    {
     "data": {
      "text/plain": [
       "(1787, 16)"
      ]
     },
     "execution_count": 22,
     "metadata": {},
     "output_type": "execute_result"
    }
   ],
   "source": [
    "chi_311_filtered[chi_311_filtered['COMMUNITY_AREA'].isna()].shape"
   ]
  },
  {
   "cell_type": "code",
   "execution_count": 23,
   "metadata": {},
   "outputs": [
    {
     "data": {
      "text/plain": [
       "(1607, 16)"
      ]
     },
     "execution_count": 23,
     "metadata": {},
     "output_type": "execute_result"
    }
   ],
   "source": [
    "chi_311_filtered[chi_311_filtered['WARD'].isna()].shape"
   ]
  },
  {
   "cell_type": "code",
   "execution_count": 24,
   "metadata": {},
   "outputs": [],
   "source": [
    "chi_311_filtered = chi_311_filtered[chi_311_filtered['COMMUNITY_AREA'].notna() &\n",
    "                                    chi_311_filtered['WARD'].notna()]"
   ]
  },
  {
   "cell_type": "code",
   "execution_count": 25,
   "metadata": {},
   "outputs": [
    {
     "data": {
      "text/plain": [
       "(2253842, 16)"
      ]
     },
     "execution_count": 25,
     "metadata": {},
     "output_type": "execute_result"
    }
   ],
   "source": [
    "chi_311_filtered.shape"
   ]
  },
  {
   "cell_type": "markdown",
   "metadata": {},
   "source": [
    "Check and remove duplicates:"
   ]
  },
  {
   "cell_type": "code",
   "execution_count": 26,
   "metadata": {},
   "outputs": [],
   "source": [
    "dupes = chi_311_filtered[chi_311_filtered['DUPLICATE'] == True]"
   ]
  },
  {
   "cell_type": "code",
   "execution_count": 27,
   "metadata": {},
   "outputs": [
    {
     "data": {
      "text/html": [
       "<div>\n",
       "<style scoped>\n",
       "    .dataframe tbody tr th:only-of-type {\n",
       "        vertical-align: middle;\n",
       "    }\n",
       "\n",
       "    .dataframe tbody tr th {\n",
       "        vertical-align: top;\n",
       "    }\n",
       "\n",
       "    .dataframe thead th {\n",
       "        text-align: right;\n",
       "    }\n",
       "</style>\n",
       "<table border=\"1\" class=\"dataframe\">\n",
       "  <thead>\n",
       "    <tr style=\"text-align: right;\">\n",
       "      <th></th>\n",
       "      <th>SR_NUMBER</th>\n",
       "      <th>SR_TYPE</th>\n",
       "      <th>OWNER_DEPARTMENT</th>\n",
       "      <th>STATUS</th>\n",
       "      <th>CREATED_DATE</th>\n",
       "      <th>CLOSED_DATE</th>\n",
       "      <th>DUPLICATE</th>\n",
       "      <th>PARENT_SR_NUMBER</th>\n",
       "      <th>COMMUNITY_AREA</th>\n",
       "      <th>WARD</th>\n",
       "      <th>CREATED_HOUR</th>\n",
       "      <th>CREATED_DAY_OF_WEEK</th>\n",
       "      <th>CREATED_MONTH</th>\n",
       "      <th>LATITUDE</th>\n",
       "      <th>LONGITUDE</th>\n",
       "      <th>LOCATION</th>\n",
       "    </tr>\n",
       "  </thead>\n",
       "  <tbody>\n",
       "    <tr>\n",
       "      <th>412</th>\n",
       "      <td>SR19-02557557</td>\n",
       "      <td>Pothole in Street Complaint</td>\n",
       "      <td>CDOT - Department of Transportation</td>\n",
       "      <td>Completed</td>\n",
       "      <td>09/23/2019 06:13:16 PM</td>\n",
       "      <td>12/20/2019 03:19:51 PM</td>\n",
       "      <td>True</td>\n",
       "      <td>SR19-02206459</td>\n",
       "      <td>25.0</td>\n",
       "      <td>29.0</td>\n",
       "      <td>18</td>\n",
       "      <td>2</td>\n",
       "      <td>9</td>\n",
       "      <td>41.879477</td>\n",
       "      <td>-87.763706</td>\n",
       "      <td>(41.879477495788485, -87.76370588423917)</td>\n",
       "    </tr>\n",
       "    <tr>\n",
       "      <th>674210</th>\n",
       "      <td>SR19-02412950</td>\n",
       "      <td>Pothole in Street Complaint</td>\n",
       "      <td>CDOT - Department of Transportation</td>\n",
       "      <td>Completed</td>\n",
       "      <td>09/07/2019 06:59:08 AM</td>\n",
       "      <td>12/20/2019 03:19:51 PM</td>\n",
       "      <td>True</td>\n",
       "      <td>SR19-02206459</td>\n",
       "      <td>25.0</td>\n",
       "      <td>29.0</td>\n",
       "      <td>6</td>\n",
       "      <td>7</td>\n",
       "      <td>9</td>\n",
       "      <td>41.879324</td>\n",
       "      <td>-87.761916</td>\n",
       "      <td>(41.87932434546784, -87.76191601010542)</td>\n",
       "    </tr>\n",
       "    <tr>\n",
       "      <th>766337</th>\n",
       "      <td>SR19-02786257</td>\n",
       "      <td>Pothole in Street Complaint</td>\n",
       "      <td>CDOT - Department of Transportation</td>\n",
       "      <td>Completed</td>\n",
       "      <td>10/22/2019 02:16:57 PM</td>\n",
       "      <td>12/20/2019 03:19:51 PM</td>\n",
       "      <td>True</td>\n",
       "      <td>SR19-02206459</td>\n",
       "      <td>25.0</td>\n",
       "      <td>29.0</td>\n",
       "      <td>14</td>\n",
       "      <td>3</td>\n",
       "      <td>10</td>\n",
       "      <td>41.879268</td>\n",
       "      <td>-87.762142</td>\n",
       "      <td>(41.879267695685606, -87.76214183334518)</td>\n",
       "    </tr>\n",
       "    <tr>\n",
       "      <th>2266793</th>\n",
       "      <td>SR19-01819033</td>\n",
       "      <td>Pothole in Street Complaint</td>\n",
       "      <td>CDOT - Department of Transportation</td>\n",
       "      <td>Completed</td>\n",
       "      <td>06/28/2019 01:58:34 PM</td>\n",
       "      <td>12/20/2019 03:19:51 PM</td>\n",
       "      <td>True</td>\n",
       "      <td>SR19-02206459</td>\n",
       "      <td>25.0</td>\n",
       "      <td>29.0</td>\n",
       "      <td>13</td>\n",
       "      <td>6</td>\n",
       "      <td>6</td>\n",
       "      <td>41.879324</td>\n",
       "      <td>-87.761916</td>\n",
       "      <td>(41.87932434546784, -87.76191601010542)</td>\n",
       "    </tr>\n",
       "    <tr>\n",
       "      <th>2266847</th>\n",
       "      <td>SR19-02412742</td>\n",
       "      <td>Pothole in Street Complaint</td>\n",
       "      <td>CDOT - Department of Transportation</td>\n",
       "      <td>Completed</td>\n",
       "      <td>09/07/2019 05:11:59 AM</td>\n",
       "      <td>12/20/2019 03:19:51 PM</td>\n",
       "      <td>True</td>\n",
       "      <td>SR19-02206459</td>\n",
       "      <td>25.0</td>\n",
       "      <td>29.0</td>\n",
       "      <td>5</td>\n",
       "      <td>7</td>\n",
       "      <td>9</td>\n",
       "      <td>41.879324</td>\n",
       "      <td>-87.761916</td>\n",
       "      <td>(41.87932434546784, -87.76191601010542)</td>\n",
       "    </tr>\n",
       "    <tr>\n",
       "      <th>2266848</th>\n",
       "      <td>SR19-02438203</td>\n",
       "      <td>Pothole in Street Complaint</td>\n",
       "      <td>CDOT - Department of Transportation</td>\n",
       "      <td>Completed</td>\n",
       "      <td>09/10/2019 10:07:29 AM</td>\n",
       "      <td>12/20/2019 03:19:51 PM</td>\n",
       "      <td>True</td>\n",
       "      <td>SR19-02206459</td>\n",
       "      <td>25.0</td>\n",
       "      <td>29.0</td>\n",
       "      <td>10</td>\n",
       "      <td>3</td>\n",
       "      <td>9</td>\n",
       "      <td>41.879049</td>\n",
       "      <td>-87.764287</td>\n",
       "      <td>(41.87904861695672, -87.76428729934396)</td>\n",
       "    </tr>\n",
       "    <tr>\n",
       "      <th>2266849</th>\n",
       "      <td>SR19-02438308</td>\n",
       "      <td>Pothole in Street Complaint</td>\n",
       "      <td>CDOT - Department of Transportation</td>\n",
       "      <td>Completed</td>\n",
       "      <td>09/10/2019 10:11:17 AM</td>\n",
       "      <td>12/20/2019 03:19:51 PM</td>\n",
       "      <td>True</td>\n",
       "      <td>SR19-02206459</td>\n",
       "      <td>25.0</td>\n",
       "      <td>29.0</td>\n",
       "      <td>10</td>\n",
       "      <td>3</td>\n",
       "      <td>9</td>\n",
       "      <td>41.879060</td>\n",
       "      <td>-87.764026</td>\n",
       "      <td>(41.87905954923467, -87.76402622454499)</td>\n",
       "    </tr>\n",
       "    <tr>\n",
       "      <th>2266867</th>\n",
       "      <td>SR19-02469775</td>\n",
       "      <td>Pothole in Street Complaint</td>\n",
       "      <td>CDOT - Department of Transportation</td>\n",
       "      <td>Completed</td>\n",
       "      <td>09/12/2019 05:43:36 PM</td>\n",
       "      <td>12/20/2019 03:19:51 PM</td>\n",
       "      <td>True</td>\n",
       "      <td>SR19-02206459</td>\n",
       "      <td>25.0</td>\n",
       "      <td>29.0</td>\n",
       "      <td>17</td>\n",
       "      <td>5</td>\n",
       "      <td>9</td>\n",
       "      <td>41.879324</td>\n",
       "      <td>-87.761916</td>\n",
       "      <td>(41.87932434546784, -87.76191601010542)</td>\n",
       "    </tr>\n",
       "    <tr>\n",
       "      <th>2266953</th>\n",
       "      <td>SR19-03092189</td>\n",
       "      <td>Pothole in Street Complaint</td>\n",
       "      <td>CDOT - Department of Transportation</td>\n",
       "      <td>Completed</td>\n",
       "      <td>12/06/2019 10:44:39 PM</td>\n",
       "      <td>12/20/2019 03:19:51 PM</td>\n",
       "      <td>True</td>\n",
       "      <td>SR19-02206459</td>\n",
       "      <td>25.0</td>\n",
       "      <td>29.0</td>\n",
       "      <td>22</td>\n",
       "      <td>6</td>\n",
       "      <td>12</td>\n",
       "      <td>41.879049</td>\n",
       "      <td>-87.764287</td>\n",
       "      <td>(41.87904861695672, -87.76428729934396)</td>\n",
       "    </tr>\n",
       "  </tbody>\n",
       "</table>\n",
       "</div>"
      ],
      "text/plain": [
       "             SR_NUMBER                      SR_TYPE  \\\n",
       "412      SR19-02557557  Pothole in Street Complaint   \n",
       "674210   SR19-02412950  Pothole in Street Complaint   \n",
       "766337   SR19-02786257  Pothole in Street Complaint   \n",
       "2266793  SR19-01819033  Pothole in Street Complaint   \n",
       "2266847  SR19-02412742  Pothole in Street Complaint   \n",
       "2266848  SR19-02438203  Pothole in Street Complaint   \n",
       "2266849  SR19-02438308  Pothole in Street Complaint   \n",
       "2266867  SR19-02469775  Pothole in Street Complaint   \n",
       "2266953  SR19-03092189  Pothole in Street Complaint   \n",
       "\n",
       "                            OWNER_DEPARTMENT     STATUS  \\\n",
       "412      CDOT - Department of Transportation  Completed   \n",
       "674210   CDOT - Department of Transportation  Completed   \n",
       "766337   CDOT - Department of Transportation  Completed   \n",
       "2266793  CDOT - Department of Transportation  Completed   \n",
       "2266847  CDOT - Department of Transportation  Completed   \n",
       "2266848  CDOT - Department of Transportation  Completed   \n",
       "2266849  CDOT - Department of Transportation  Completed   \n",
       "2266867  CDOT - Department of Transportation  Completed   \n",
       "2266953  CDOT - Department of Transportation  Completed   \n",
       "\n",
       "                   CREATED_DATE             CLOSED_DATE  DUPLICATE  \\\n",
       "412      09/23/2019 06:13:16 PM  12/20/2019 03:19:51 PM       True   \n",
       "674210   09/07/2019 06:59:08 AM  12/20/2019 03:19:51 PM       True   \n",
       "766337   10/22/2019 02:16:57 PM  12/20/2019 03:19:51 PM       True   \n",
       "2266793  06/28/2019 01:58:34 PM  12/20/2019 03:19:51 PM       True   \n",
       "2266847  09/07/2019 05:11:59 AM  12/20/2019 03:19:51 PM       True   \n",
       "2266848  09/10/2019 10:07:29 AM  12/20/2019 03:19:51 PM       True   \n",
       "2266849  09/10/2019 10:11:17 AM  12/20/2019 03:19:51 PM       True   \n",
       "2266867  09/12/2019 05:43:36 PM  12/20/2019 03:19:51 PM       True   \n",
       "2266953  12/06/2019 10:44:39 PM  12/20/2019 03:19:51 PM       True   \n",
       "\n",
       "        PARENT_SR_NUMBER  COMMUNITY_AREA  WARD  CREATED_HOUR  \\\n",
       "412        SR19-02206459            25.0  29.0            18   \n",
       "674210     SR19-02206459            25.0  29.0             6   \n",
       "766337     SR19-02206459            25.0  29.0            14   \n",
       "2266793    SR19-02206459            25.0  29.0            13   \n",
       "2266847    SR19-02206459            25.0  29.0             5   \n",
       "2266848    SR19-02206459            25.0  29.0            10   \n",
       "2266849    SR19-02206459            25.0  29.0            10   \n",
       "2266867    SR19-02206459            25.0  29.0            17   \n",
       "2266953    SR19-02206459            25.0  29.0            22   \n",
       "\n",
       "         CREATED_DAY_OF_WEEK  CREATED_MONTH   LATITUDE  LONGITUDE  \\\n",
       "412                        2              9  41.879477 -87.763706   \n",
       "674210                     7              9  41.879324 -87.761916   \n",
       "766337                     3             10  41.879268 -87.762142   \n",
       "2266793                    6              6  41.879324 -87.761916   \n",
       "2266847                    7              9  41.879324 -87.761916   \n",
       "2266848                    3              9  41.879049 -87.764287   \n",
       "2266849                    3              9  41.879060 -87.764026   \n",
       "2266867                    5              9  41.879324 -87.761916   \n",
       "2266953                    6             12  41.879049 -87.764287   \n",
       "\n",
       "                                         LOCATION  \n",
       "412      (41.879477495788485, -87.76370588423917)  \n",
       "674210    (41.87932434546784, -87.76191601010542)  \n",
       "766337   (41.879267695685606, -87.76214183334518)  \n",
       "2266793   (41.87932434546784, -87.76191601010542)  \n",
       "2266847   (41.87932434546784, -87.76191601010542)  \n",
       "2266848   (41.87904861695672, -87.76428729934396)  \n",
       "2266849   (41.87905954923467, -87.76402622454499)  \n",
       "2266867   (41.87932434546784, -87.76191601010542)  \n",
       "2266953   (41.87904861695672, -87.76428729934396)  "
      ]
     },
     "execution_count": 27,
     "metadata": {},
     "output_type": "execute_result"
    }
   ],
   "source": [
    "dupes[dupes['PARENT_SR_NUMBER'] == 'SR19-02206459']"
   ]
  },
  {
   "cell_type": "code",
   "execution_count": 28,
   "metadata": {},
   "outputs": [
    {
     "data": {
      "text/html": [
       "<div>\n",
       "<style scoped>\n",
       "    .dataframe tbody tr th:only-of-type {\n",
       "        vertical-align: middle;\n",
       "    }\n",
       "\n",
       "    .dataframe tbody tr th {\n",
       "        vertical-align: top;\n",
       "    }\n",
       "\n",
       "    .dataframe thead th {\n",
       "        text-align: right;\n",
       "    }\n",
       "</style>\n",
       "<table border=\"1\" class=\"dataframe\">\n",
       "  <thead>\n",
       "    <tr style=\"text-align: right;\">\n",
       "      <th></th>\n",
       "      <th>SR_NUMBER</th>\n",
       "      <th>SR_TYPE</th>\n",
       "      <th>OWNER_DEPARTMENT</th>\n",
       "      <th>STATUS</th>\n",
       "      <th>CREATED_DATE</th>\n",
       "      <th>CLOSED_DATE</th>\n",
       "      <th>DUPLICATE</th>\n",
       "      <th>PARENT_SR_NUMBER</th>\n",
       "      <th>COMMUNITY_AREA</th>\n",
       "      <th>WARD</th>\n",
       "      <th>CREATED_HOUR</th>\n",
       "      <th>CREATED_DAY_OF_WEEK</th>\n",
       "      <th>CREATED_MONTH</th>\n",
       "      <th>LATITUDE</th>\n",
       "      <th>LONGITUDE</th>\n",
       "      <th>LOCATION</th>\n",
       "    </tr>\n",
       "  </thead>\n",
       "  <tbody>\n",
       "  </tbody>\n",
       "</table>\n",
       "</div>"
      ],
      "text/plain": [
       "Empty DataFrame\n",
       "Columns: [SR_NUMBER, SR_TYPE, OWNER_DEPARTMENT, STATUS, CREATED_DATE, CLOSED_DATE, DUPLICATE, PARENT_SR_NUMBER, COMMUNITY_AREA, WARD, CREATED_HOUR, CREATED_DAY_OF_WEEK, CREATED_MONTH, LATITUDE, LONGITUDE, LOCATION]\n",
       "Index: []"
      ]
     },
     "execution_count": 28,
     "metadata": {},
     "output_type": "execute_result"
    }
   ],
   "source": [
    "dupes[dupes['SR_NUMBER'] == 'SR19-02206459']"
   ]
  },
  {
   "cell_type": "code",
   "execution_count": 29,
   "metadata": {},
   "outputs": [
    {
     "data": {
      "text/html": [
       "<div>\n",
       "<style scoped>\n",
       "    .dataframe tbody tr th:only-of-type {\n",
       "        vertical-align: middle;\n",
       "    }\n",
       "\n",
       "    .dataframe tbody tr th {\n",
       "        vertical-align: top;\n",
       "    }\n",
       "\n",
       "    .dataframe thead th {\n",
       "        text-align: right;\n",
       "    }\n",
       "</style>\n",
       "<table border=\"1\" class=\"dataframe\">\n",
       "  <thead>\n",
       "    <tr style=\"text-align: right;\">\n",
       "      <th></th>\n",
       "      <th>SR_NUMBER</th>\n",
       "      <th>SR_TYPE</th>\n",
       "      <th>OWNER_DEPARTMENT</th>\n",
       "      <th>STATUS</th>\n",
       "      <th>CREATED_DATE</th>\n",
       "      <th>CLOSED_DATE</th>\n",
       "      <th>DUPLICATE</th>\n",
       "      <th>PARENT_SR_NUMBER</th>\n",
       "      <th>COMMUNITY_AREA</th>\n",
       "      <th>WARD</th>\n",
       "      <th>CREATED_HOUR</th>\n",
       "      <th>CREATED_DAY_OF_WEEK</th>\n",
       "      <th>CREATED_MONTH</th>\n",
       "      <th>LATITUDE</th>\n",
       "      <th>LONGITUDE</th>\n",
       "      <th>LOCATION</th>\n",
       "    </tr>\n",
       "  </thead>\n",
       "  <tbody>\n",
       "    <tr>\n",
       "      <th>761114</th>\n",
       "      <td>SR19-02206459</td>\n",
       "      <td>Pothole in Street Complaint</td>\n",
       "      <td>CDOT - Department of Transportation</td>\n",
       "      <td>Completed</td>\n",
       "      <td>08/14/2019 03:40:48 PM</td>\n",
       "      <td>12/20/2019 03:19:51 PM</td>\n",
       "      <td>False</td>\n",
       "      <td>NaN</td>\n",
       "      <td>25.0</td>\n",
       "      <td>29.0</td>\n",
       "      <td>15</td>\n",
       "      <td>4</td>\n",
       "      <td>8</td>\n",
       "      <td>41.87938</td>\n",
       "      <td>-87.761907</td>\n",
       "      <td>(41.87937977042881, -87.76190680466857)</td>\n",
       "    </tr>\n",
       "  </tbody>\n",
       "</table>\n",
       "</div>"
      ],
      "text/plain": [
       "            SR_NUMBER                      SR_TYPE  \\\n",
       "761114  SR19-02206459  Pothole in Street Complaint   \n",
       "\n",
       "                           OWNER_DEPARTMENT     STATUS  \\\n",
       "761114  CDOT - Department of Transportation  Completed   \n",
       "\n",
       "                  CREATED_DATE             CLOSED_DATE  DUPLICATE  \\\n",
       "761114  08/14/2019 03:40:48 PM  12/20/2019 03:19:51 PM      False   \n",
       "\n",
       "       PARENT_SR_NUMBER  COMMUNITY_AREA  WARD  CREATED_HOUR  \\\n",
       "761114              NaN            25.0  29.0            15   \n",
       "\n",
       "        CREATED_DAY_OF_WEEK  CREATED_MONTH  LATITUDE  LONGITUDE  \\\n",
       "761114                    4              8  41.87938 -87.761907   \n",
       "\n",
       "                                       LOCATION  \n",
       "761114  (41.87937977042881, -87.76190680466857)  "
      ]
     },
     "execution_count": 29,
     "metadata": {},
     "output_type": "execute_result"
    }
   ],
   "source": [
    "# Looks if we remove rows where duplicate == 'True', then we don't delete the original parent request\n",
    "chi_311_filtered[chi_311_filtered['SR_NUMBER'] == 'SR19-02206459']"
   ]
  },
  {
   "cell_type": "code",
   "execution_count": 30,
   "metadata": {},
   "outputs": [
    {
     "data": {
      "text/html": [
       "<div>\n",
       "<style scoped>\n",
       "    .dataframe tbody tr th:only-of-type {\n",
       "        vertical-align: middle;\n",
       "    }\n",
       "\n",
       "    .dataframe tbody tr th {\n",
       "        vertical-align: top;\n",
       "    }\n",
       "\n",
       "    .dataframe thead th {\n",
       "        text-align: right;\n",
       "    }\n",
       "</style>\n",
       "<table border=\"1\" class=\"dataframe\">\n",
       "  <thead>\n",
       "    <tr style=\"text-align: right;\">\n",
       "      <th></th>\n",
       "      <th>SR_NUMBER</th>\n",
       "      <th>SR_TYPE</th>\n",
       "      <th>OWNER_DEPARTMENT</th>\n",
       "      <th>STATUS</th>\n",
       "      <th>CREATED_DATE</th>\n",
       "      <th>CLOSED_DATE</th>\n",
       "      <th>DUPLICATE</th>\n",
       "      <th>PARENT_SR_NUMBER</th>\n",
       "      <th>COMMUNITY_AREA</th>\n",
       "      <th>WARD</th>\n",
       "      <th>CREATED_HOUR</th>\n",
       "      <th>CREATED_DAY_OF_WEEK</th>\n",
       "      <th>CREATED_MONTH</th>\n",
       "      <th>LATITUDE</th>\n",
       "      <th>LONGITUDE</th>\n",
       "      <th>LOCATION</th>\n",
       "    </tr>\n",
       "  </thead>\n",
       "  <tbody>\n",
       "    <tr>\n",
       "      <th>40</th>\n",
       "      <td>SR19-01473141</td>\n",
       "      <td>Traffic Signal Out Complaint</td>\n",
       "      <td>CDOT - Department of Transportation</td>\n",
       "      <td>Open</td>\n",
       "      <td>05/11/2019 04:27:11 PM</td>\n",
       "      <td>NaN</td>\n",
       "      <td>True</td>\n",
       "      <td>SR19-01473136</td>\n",
       "      <td>55.0</td>\n",
       "      <td>10.0</td>\n",
       "      <td>16</td>\n",
       "      <td>7</td>\n",
       "      <td>5</td>\n",
       "      <td>41.680867</td>\n",
       "      <td>-87.540145</td>\n",
       "      <td>(41.68086671767255, -87.54014478630506)</td>\n",
       "    </tr>\n",
       "  </tbody>\n",
       "</table>\n",
       "</div>"
      ],
      "text/plain": [
       "        SR_NUMBER                       SR_TYPE  \\\n",
       "40  SR19-01473141  Traffic Signal Out Complaint   \n",
       "\n",
       "                       OWNER_DEPARTMENT STATUS            CREATED_DATE  \\\n",
       "40  CDOT - Department of Transportation   Open  05/11/2019 04:27:11 PM   \n",
       "\n",
       "   CLOSED_DATE  DUPLICATE PARENT_SR_NUMBER  COMMUNITY_AREA  WARD  \\\n",
       "40         NaN       True    SR19-01473136            55.0  10.0   \n",
       "\n",
       "    CREATED_HOUR  CREATED_DAY_OF_WEEK  CREATED_MONTH   LATITUDE  LONGITUDE  \\\n",
       "40            16                    7              5  41.680867 -87.540145   \n",
       "\n",
       "                                   LOCATION  \n",
       "40  (41.68086671767255, -87.54014478630506)  "
      ]
     },
     "execution_count": 30,
     "metadata": {},
     "output_type": "execute_result"
    }
   ],
   "source": [
    "dupes[dupes['PARENT_SR_NUMBER'] == 'SR19-01473136']"
   ]
  },
  {
   "cell_type": "code",
   "execution_count": 31,
   "metadata": {},
   "outputs": [
    {
     "data": {
      "text/html": [
       "<div>\n",
       "<style scoped>\n",
       "    .dataframe tbody tr th:only-of-type {\n",
       "        vertical-align: middle;\n",
       "    }\n",
       "\n",
       "    .dataframe tbody tr th {\n",
       "        vertical-align: top;\n",
       "    }\n",
       "\n",
       "    .dataframe thead th {\n",
       "        text-align: right;\n",
       "    }\n",
       "</style>\n",
       "<table border=\"1\" class=\"dataframe\">\n",
       "  <thead>\n",
       "    <tr style=\"text-align: right;\">\n",
       "      <th></th>\n",
       "      <th>SR_NUMBER</th>\n",
       "      <th>SR_TYPE</th>\n",
       "      <th>OWNER_DEPARTMENT</th>\n",
       "      <th>STATUS</th>\n",
       "      <th>CREATED_DATE</th>\n",
       "      <th>CLOSED_DATE</th>\n",
       "      <th>DUPLICATE</th>\n",
       "      <th>PARENT_SR_NUMBER</th>\n",
       "      <th>COMMUNITY_AREA</th>\n",
       "      <th>WARD</th>\n",
       "      <th>CREATED_HOUR</th>\n",
       "      <th>CREATED_DAY_OF_WEEK</th>\n",
       "      <th>CREATED_MONTH</th>\n",
       "      <th>LATITUDE</th>\n",
       "      <th>LONGITUDE</th>\n",
       "      <th>LOCATION</th>\n",
       "    </tr>\n",
       "  </thead>\n",
       "  <tbody>\n",
       "    <tr>\n",
       "      <th>3809668</th>\n",
       "      <td>SR19-01473136</td>\n",
       "      <td>Traffic Signal Out Complaint</td>\n",
       "      <td>CDOT - Department of Transportation</td>\n",
       "      <td>Open</td>\n",
       "      <td>05/11/2019 04:26:20 PM</td>\n",
       "      <td>NaN</td>\n",
       "      <td>False</td>\n",
       "      <td>NaN</td>\n",
       "      <td>55.0</td>\n",
       "      <td>10.0</td>\n",
       "      <td>16</td>\n",
       "      <td>7</td>\n",
       "      <td>5</td>\n",
       "      <td>41.680874</td>\n",
       "      <td>-87.540219</td>\n",
       "      <td>(41.6808740411203, -87.54021864373331)</td>\n",
       "    </tr>\n",
       "  </tbody>\n",
       "</table>\n",
       "</div>"
      ],
      "text/plain": [
       "             SR_NUMBER                       SR_TYPE  \\\n",
       "3809668  SR19-01473136  Traffic Signal Out Complaint   \n",
       "\n",
       "                            OWNER_DEPARTMENT STATUS            CREATED_DATE  \\\n",
       "3809668  CDOT - Department of Transportation   Open  05/11/2019 04:26:20 PM   \n",
       "\n",
       "        CLOSED_DATE  DUPLICATE PARENT_SR_NUMBER  COMMUNITY_AREA  WARD  \\\n",
       "3809668         NaN      False              NaN            55.0  10.0   \n",
       "\n",
       "         CREATED_HOUR  CREATED_DAY_OF_WEEK  CREATED_MONTH   LATITUDE  \\\n",
       "3809668            16                    7              5  41.680874   \n",
       "\n",
       "         LONGITUDE                                LOCATION  \n",
       "3809668 -87.540219  (41.6808740411203, -87.54021864373331)  "
      ]
     },
     "execution_count": 31,
     "metadata": {},
     "output_type": "execute_result"
    }
   ],
   "source": [
    "chi_311_filtered[chi_311_filtered['SR_NUMBER'] == 'SR19-01473136']"
   ]
  },
  {
   "cell_type": "code",
   "execution_count": 32,
   "metadata": {},
   "outputs": [],
   "source": [
    "chi_311_filtered = chi_311_filtered[chi_311_filtered['DUPLICATE'] == False]\n",
    "chi_311_filtered = chi_311_filtered.drop(columns=['DUPLICATE', 'PARENT_SR_NUMBER'])"
   ]
  },
  {
   "cell_type": "code",
   "execution_count": 33,
   "metadata": {},
   "outputs": [
    {
     "data": {
      "text/plain": [
       "(1991673, 14)"
      ]
     },
     "execution_count": 33,
     "metadata": {},
     "output_type": "execute_result"
    }
   ],
   "source": [
    "chi_311_filtered.shape"
   ]
  },
  {
   "cell_type": "markdown",
   "metadata": {},
   "source": [
    "Filtered out complaints resolved in very short period of time -\n",
    "NEED TO DECIDE WHICH COMPLAINTS TO FILTER OUT!!"
   ]
  },
  {
   "cell_type": "code",
   "execution_count": 34,
   "metadata": {},
   "outputs": [],
   "source": [
    "test = chi_311_filtered.copy()"
   ]
  },
  {
   "cell_type": "code",
   "execution_count": 35,
   "metadata": {},
   "outputs": [],
   "source": [
    "chi_311_filtered['CREATED_DATE'] = pd.to_datetime(chi_311_filtered['CREATED_DATE'],\n",
    "                                                  format='%m/%d/%Y %I:%M:%S %p')\n",
    "chi_311_filtered['CLOSED_DATE'] = pd.to_datetime(chi_311_filtered['CLOSED_DATE'],\n",
    "                                                format='%m/%d/%Y %I:%M:%S %p')"
   ]
  },
  {
   "cell_type": "code",
   "execution_count": 36,
   "metadata": {},
   "outputs": [],
   "source": [
    "chi_311_filtered['time_to_close'] = chi_311_filtered['CLOSED_DATE'] - \\\n",
    "                                        chi_311_filtered['CREATED_DATE']"
   ]
  },
  {
   "cell_type": "code",
   "execution_count": 37,
   "metadata": {},
   "outputs": [],
   "source": [
    "chi_311_filtered['time_to_close_sec'] = chi_311_filtered['time_to_close'].dt.total_seconds()"
   ]
  },
  {
   "cell_type": "code",
   "execution_count": 38,
   "metadata": {},
   "outputs": [
    {
     "data": {
      "text/plain": [
       "(402913, 16)"
      ]
     },
     "execution_count": 38,
     "metadata": {},
     "output_type": "execute_result"
    }
   ],
   "source": [
    "# Requests resolved in 0 seconds\n",
    "chi_311_filtered[chi_311_filtered['time_to_close_sec'] == 0].shape"
   ]
  },
  {
   "cell_type": "code",
   "execution_count": 39,
   "metadata": {},
   "outputs": [
    {
     "data": {
      "text/plain": [
       "(770805, 16)"
      ]
     },
     "execution_count": 39,
     "metadata": {},
     "output_type": "execute_result"
    }
   ],
   "source": [
    "# Requests resolved in less than 1 minute\n",
    "chi_311_filtered[chi_311_filtered['time_to_close_sec'] < 60].shape"
   ]
  },
  {
   "cell_type": "code",
   "execution_count": 40,
   "metadata": {},
   "outputs": [
    {
     "data": {
      "text/plain": [
       "(843289, 16)"
      ]
     },
     "execution_count": 40,
     "metadata": {},
     "output_type": "execute_result"
    }
   ],
   "source": [
    "# Requests resolved in less than 10 minute\n",
    "chi_311_filtered[chi_311_filtered['time_to_close_sec'] < 600].shape"
   ]
  },
  {
   "cell_type": "code",
   "execution_count": 41,
   "metadata": {},
   "outputs": [
    {
     "data": {
      "text/plain": [
       "(1060276, 16)"
      ]
     },
     "execution_count": 41,
     "metadata": {},
     "output_type": "execute_result"
    }
   ],
   "source": [
    "# Requests resolved in less than 1 day\n",
    "chi_311_filtered[chi_311_filtered['time_to_close_sec'] < 86400].shape"
   ]
  },
  {
   "cell_type": "code",
   "execution_count": 42,
   "metadata": {},
   "outputs": [
    {
     "data": {
      "text/plain": [
       "Aircraft Noise Complaint                                 584578\n",
       "Weed Removal Request                                      95752\n",
       "Graffiti Removal Request                                  81014\n",
       "Sign Repair Request - All Other Signs                     38539\n",
       "Pothole in Street Complaint                                8193\n",
       "                                                          ...  \n",
       "Bungalow/Vintage Home Information Request                     1\n",
       "Protected Bike Lane - Debris Removal                          1\n",
       "Clean and Green Program Request                               1\n",
       "Dead Bird                                                     1\n",
       "Snow Removal - Protected Bike Lane or Bridge Sidewalk         1\n",
       "Name: SR_TYPE, Length: 77, dtype: int64"
      ]
     },
     "execution_count": 42,
     "metadata": {},
     "output_type": "execute_result"
    }
   ],
   "source": [
    "# Types of requests resolved in less than 10 minutes\n",
    "chi_311_filtered[chi_311_filtered['time_to_close_sec'] < 600]['SR_TYPE'].value_counts()"
   ]
  },
  {
   "cell_type": "code",
   "execution_count": 43,
   "metadata": {},
   "outputs": [],
   "source": [
    "# Filter out requests resolved in less than a minute\n",
    "chi_311_filtered = chi_311_filtered[chi_311_filtered['time_to_close_sec'] >= 60]"
   ]
  },
  {
   "cell_type": "code",
   "execution_count": 50,
   "metadata": {},
   "outputs": [
    {
     "data": {
      "text/plain": [
       "(1131941, 16)"
      ]
     },
     "execution_count": 50,
     "metadata": {},
     "output_type": "execute_result"
    }
   ],
   "source": [
    "chi_311_filtered.shape"
   ]
  },
  {
   "cell_type": "code",
   "execution_count": 46,
   "metadata": {},
   "outputs": [
    {
     "data": {
      "text/plain": [
       "Index(['SR_NUMBER', 'SR_TYPE', 'OWNER_DEPARTMENT', 'STATUS', 'CREATED_DATE',\n",
       "       'CLOSED_DATE', 'COMMUNITY_AREA', 'WARD', 'CREATED_HOUR',\n",
       "       'CREATED_DAY_OF_WEEK', 'CREATED_MONTH', 'LATITUDE', 'LONGITUDE',\n",
       "       'LOCATION', 'time_to_close', 'time_to_close_sec'],\n",
       "      dtype='object')"
      ]
     },
     "execution_count": 46,
     "metadata": {},
     "output_type": "execute_result"
    }
   ],
   "source": [
    "chi_311_filtered.columns"
   ]
  },
  {
   "cell_type": "markdown",
   "metadata": {},
   "source": [
    "Pickle filtered file:"
   ]
  },
  {
   "cell_type": "code",
   "execution_count": 51,
   "metadata": {},
   "outputs": [],
   "source": [
    "chi_311_filtered.to_pickle(\"../pickle_files/chi_311.pkl\")"
   ]
  }
 ],
 "metadata": {
  "kernelspec": {
   "display_name": "geo_env",
   "language": "python",
   "name": "geo_env"
  },
  "language_info": {
   "codemirror_mode": {
    "name": "ipython",
    "version": 3
   },
   "file_extension": ".py",
   "mimetype": "text/x-python",
   "name": "python",
   "nbconvert_exporter": "python",
   "pygments_lexer": "ipython3",
   "version": "3.8.2"
  }
 },
 "nbformat": 4,
 "nbformat_minor": 4
}
